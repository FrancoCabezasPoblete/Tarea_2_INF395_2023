{
 "cells": [
  {
   "cell_type": "code",
   "execution_count": 1,
   "metadata": {},
   "outputs": [
    {
     "name": "stderr",
     "output_type": "stream",
     "text": [
      "e:\\miniconda\\envs\\tf\\lib\\site-packages\\tensorflow_addons\\utils\\tfa_eol_msg.py:23: UserWarning: \n",
      "\n",
      "TensorFlow Addons (TFA) has ended development and introduction of new features.\n",
      "TFA has entered a minimal maintenance and release mode until a planned end of life in May 2024.\n",
      "Please modify downstream libraries to take dependencies from other repositories in our TensorFlow community (e.g. Keras, Keras-CV, and Keras-NLP). \n",
      "\n",
      "For more information see: https://github.com/tensorflow/addons/issues/2807 \n",
      "\n",
      "  warnings.warn(\n",
      "e:\\miniconda\\envs\\tf\\lib\\site-packages\\tensorflow_addons\\utils\\ensure_tf_install.py:53: UserWarning: Tensorflow Addons supports using Python ops for all Tensorflow versions above or equal to 2.12.0 and strictly below 2.15.0 (nightly versions are not supported). \n",
      " The versions of TensorFlow you are currently using is 2.10.1 and is not supported. \n",
      "Some things might work, some things might not.\n",
      "If you were to encounter a bug, do not file an issue.\n",
      "If you want to make sure you're using a tested and supported configuration, either change the TensorFlow version or the TensorFlow Addons's version. \n",
      "You can find the compatibility matrix in TensorFlow Addon's readme:\n",
      "https://github.com/tensorflow/addons\n",
      "  warnings.warn(\n"
     ]
    }
   ],
   "source": [
    "import numpy as np\n",
    "import pandas as pd\n",
    "import matplotlib.pyplot as plt\n",
    "import tensorflow as tf\n",
    "from tensorflow.keras.preprocessing.image import ImageDataGenerator\n",
    "from tensorflow.keras.utils import to_categorical\n",
    "from tensorflow.keras.utils import get_file\n",
    "from datetime import datetime\n",
    "from sklearn.model_selection import train_test_split\n",
    "from os import path\n",
    "from tensorflow.keras.optimizers import SGD\n",
    "from tensorflow.keras.constraints import Constraint\n",
    "from tensorflow.python.ops import math_ops\n",
    "import tensorflow.keras.backend as K\n",
    "from tensorflow.keras.callbacks import ModelCheckpoint\n",
    "from tensorflow.keras.initializers import Zeros\n",
    "from sklearn.metrics import f1_score\n",
    "import json\n",
    "import tensorflow_addons as tfa"
   ]
  },
  {
   "cell_type": "markdown",
   "metadata": {},
   "source": [
    "# Creación de datasets"
   ]
  },
  {
   "cell_type": "code",
   "execution_count": 2,
   "metadata": {},
   "outputs": [
    {
     "data": {
      "text/html": [
       "<div>\n",
       "<style scoped>\n",
       "    .dataframe tbody tr th:only-of-type {\n",
       "        vertical-align: middle;\n",
       "    }\n",
       "\n",
       "    .dataframe tbody tr th {\n",
       "        vertical-align: top;\n",
       "    }\n",
       "\n",
       "    .dataframe thead th {\n",
       "        text-align: right;\n",
       "    }\n",
       "</style>\n",
       "<table border=\"1\" class=\"dataframe\">\n",
       "  <thead>\n",
       "    <tr style=\"text-align: right;\">\n",
       "      <th></th>\n",
       "      <th>path</th>\n",
       "      <th>food_category</th>\n",
       "      <th>dish</th>\n",
       "      <th>classes</th>\n",
       "    </tr>\n",
       "  </thead>\n",
       "  <tbody>\n",
       "    <tr>\n",
       "      <th>0</th>\n",
       "      <td>images/bibimbap/2857696.jpg</td>\n",
       "      <td>2</td>\n",
       "      <td>69</td>\n",
       "      <td>2 69</td>\n",
       "    </tr>\n",
       "    <tr>\n",
       "      <th>1</th>\n",
       "      <td>images/prime_rib/2280209.jpg</td>\n",
       "      <td>2</td>\n",
       "      <td>79</td>\n",
       "      <td>2 79</td>\n",
       "    </tr>\n",
       "    <tr>\n",
       "      <th>2</th>\n",
       "      <td>images/chicken_quesadilla/823085.jpg</td>\n",
       "      <td>2</td>\n",
       "      <td>60</td>\n",
       "      <td>2 60</td>\n",
       "    </tr>\n",
       "    <tr>\n",
       "      <th>3</th>\n",
       "      <td>images/bread_pudding/3141232.jpg</td>\n",
       "      <td>1</td>\n",
       "      <td>83</td>\n",
       "      <td>1 83</td>\n",
       "    </tr>\n",
       "    <tr>\n",
       "      <th>4</th>\n",
       "      <td>images/beignets/2139636.jpg</td>\n",
       "      <td>1</td>\n",
       "      <td>68</td>\n",
       "      <td>1 68</td>\n",
       "    </tr>\n",
       "  </tbody>\n",
       "</table>\n",
       "</div>"
      ],
      "text/plain": [
       "                                   path  food_category  dish classes\n",
       "0           images/bibimbap/2857696.jpg              2    69    2 69\n",
       "1          images/prime_rib/2280209.jpg              2    79    2 79\n",
       "2  images/chicken_quesadilla/823085.jpg              2    60    2 60\n",
       "3      images/bread_pudding/3141232.jpg              1    83    1 83\n",
       "4           images/beignets/2139636.jpg              1    68    1 68"
      ]
     },
     "execution_count": 2,
     "metadata": {},
     "output_type": "execute_result"
    }
   ],
   "source": [
    "df = pd.read_csv('train.csv')\n",
    "#df = df.drop(['classes'], axis=1)\n",
    "df.head()"
   ]
  },
  {
   "cell_type": "code",
   "execution_count": 3,
   "metadata": {},
   "outputs": [
    {
     "name": "stdout",
     "output_type": "stream",
     "text": [
      "{'0': 'salad', '1': 'dessert', '2': 'main_dish'}\n",
      "{'0': 'foie_gras', '1': 'club_sandwich', '2': 'cheese_plate', '3': 'cup_cakes', '4': 'garlic_bread', '5': 'gnocchi', '6': 'ice_cream', '7': 'samosa', '8': 'donuts', '9': 'tuna_tartare', '10': 'filet_mignon', '11': 'seaweed_salad', '12': 'french_toast', '13': 'chicken_curry', '14': 'shrimp_and_grits', '15': 'steak', '16': 'cheesecake', '17': 'red_velvet_cake', '18': 'waffles', '19': 'churros', '20': 'gyoza', '21': 'lobster_roll_sandwich', '22': 'huevos_rancheros', '23': 'breakfast_burrito', '24': 'grilled_cheese_sandwich', '25': 'spaghetti_bolognese', '26': 'falafel', '27': 'poutine', '28': 'greek_salad', '29': 'beef_tartare', '30': 'fried_calamari', '31': 'guacamole', '32': 'ravioli', '33': 'lobster_bisque', '34': 'beet_salad', '35': 'risotto', '36': 'crab_cakes', '37': 'strawberry_shortcake', '38': 'edamame', '39': 'ceviche', '40': 'hot_and_sour_soup', '41': 'spring_rolls', '42': 'sashimi', '43': 'paella', '44': 'clam_chowder', '45': 'miso_soup', '46': 'escargots', '47': 'hot_dog', '48': 'pulled_pork_sandwich', '49': 'bruschetta', '50': 'panna_cotta', '51': 'fish_and_chips', '52': 'pad_thai', '53': 'tiramisu', '54': 'takoyaki', '55': 'macarons', '56': 'apple_pie', '57': 'cannoli', '58': 'scallops', '59': 'frozen_yogurt', '60': 'chicken_quesadilla', '61': 'mussels', '62': 'beef_carpaccio', '63': 'eggs_benedict', '64': 'spaghetti_carbonara', '65': 'omelette', '66': 'sushi', '67': 'chocolate_mousse', '68': 'beignets', '69': 'bibimbap', '70': 'hummus', '71': 'pork_chop', '72': 'chicken_wings', '73': 'grilled_salmon', '74': 'chocolate_cake', '75': 'tacos', '76': 'hamburger', '77': 'baby_back_ribs', '78': 'pancakes', '79': 'prime_rib', '80': 'pizza', '81': 'nachos', '82': 'macaroni_and_cheese', '83': 'bread_pudding', '84': 'ramen', '85': 'croque_madame', '86': 'lasagna', '87': 'peking_duck', '88': 'deviled_eggs', '89': 'french_fries', '90': 'dumplings', '91': 'fried_rice', '92': 'french_onion_soup', '93': 'pho', '94': 'caprese_salad', '95': 'oysters', '96': 'baklava', '97': 'creme_brulee', '98': 'carrot_cake', '99': 'onion_rings', '100': 'caesar_salad'}\n"
     ]
    }
   ],
   "source": [
    "with open('food_categories_dict.json') as f:\n",
    "    food_categories_dict = json.load(f)\n",
    "with open('dish_dict.json') as f:\n",
    "    dish_dict = json.load(f)\n",
    "print(food_categories_dict)\n",
    "print(dish_dict)"
   ]
  },
  {
   "cell_type": "code",
   "execution_count": 4,
   "metadata": {},
   "outputs": [],
   "source": [
    "# train 65% test 25% val 10%\n",
    "# [Activa] Hipotesis 1: division por clases y subclases equitativa\n",
    "# Hipotesis 2: division por clases y subclases\n",
    "train_df, test_df = train_test_split(df, test_size=0.25, random_state=42, stratify=df['classes'])\n",
    "train_df, val_df = train_test_split(train_df, test_size=0.10/0.75, random_state=42, stratify=train_df['classes'])"
   ]
  },
  {
   "cell_type": "code",
   "execution_count": 5,
   "metadata": {},
   "outputs": [
    {
     "data": {
      "text/plain": [
       "<Axes: xlabel='food_category'>"
      ]
     },
     "execution_count": 5,
     "metadata": {},
     "output_type": "execute_result"
    },
    {
     "data": {
      "image/png": "[encoded data removed]",
      "text/plain": [
       "<Figure size 640x480 with 1 Axes>"
      ]
     },
     "metadata": {},
     "output_type": "display_data"
    }
   ],
   "source": [
    "df[\"food_category\"].value_counts().plot(kind='bar')"
   ]
  },
  {
   "cell_type": "code",
   "execution_count": 6,
   "metadata": {},
   "outputs": [
    {
     "data": {
      "text/plain": [
       "<Axes: xlabel='food_category'>"
      ]
     },
     "execution_count": 6,
     "metadata": {},
     "output_type": "execute_result"
    },
    {
     "data": {
      "image/png": "[encoded data removed]",
      "text/plain": [
       "<Figure size 640x480 with 1 Axes>"
      ]
     },
     "metadata": {},
     "output_type": "display_data"
    }
   ],
   "source": [
    "# comparar distribucion de clases de food_category\n",
    "train_df['food_category'].value_counts().plot(kind='bar')"
   ]
  },
  {
   "cell_type": "code",
   "execution_count": 7,
   "metadata": {},
   "outputs": [
    {
     "data": {
      "text/plain": [
       "<Axes: xlabel='food_category'>"
      ]
     },
     "execution_count": 7,
     "metadata": {},
     "output_type": "execute_result"
    },
    {
     "data": {
      "image/png": "[encoded data removed]",
      "text/plain": [
       "<Figure size 640x480 with 1 Axes>"
      ]
     },
     "metadata": {},
     "output_type": "display_data"
    }
   ],
   "source": [
    "test_df['food_category'].value_counts().plot(kind='bar')"
   ]
  },
  {
   "cell_type": "code",
   "execution_count": 8,
   "metadata": {},
   "outputs": [
    {
     "data": {
      "text/plain": [
       "<Axes: xlabel='food_category'>"
      ]
     },
     "execution_count": 8,
     "metadata": {},
     "output_type": "execute_result"
    },
    {
     "data": {
      "image/png": "[encoded data removed]",
      "text/plain": [
       "<Figure size 640x480 with 1 Axes>"
      ]
     },
     "metadata": {},
     "output_type": "display_data"
    }
   ],
   "source": [
    "val_df['food_category'].value_counts().plot(kind='bar')"
   ]
  },
  {
   "cell_type": "markdown",
   "metadata": {},
   "source": [
    "Condition-CNN se beneficia si hay una distribución de pesos similar en los datasets"
   ]
  },
  {
   "cell_type": "code",
   "execution_count": 5,
   "metadata": {},
   "outputs": [],
   "source": [
    "# One hot encoding for food_category\n",
    "onehot_food = to_categorical(train_df['food_category'].values)\n",
    "train_df['food_categoryOneHot'] = onehot_food.tolist()\n",
    "onehot_food = to_categorical(val_df['food_category'].values)\n",
    "val_df['food_categoryOneHot'] = onehot_food.tolist()\n",
    "onehot_food = to_categorical(test_df['food_category'].values)\n",
    "test_df['food_categoryOneHot'] = onehot_food.tolist()\n",
    "\n",
    "# One hot encoding for dish\n",
    "onehot_dish = to_categorical(train_df['dish'].values)\n",
    "train_df['dishOneHot'] = onehot_dish.tolist()\n",
    "onehot_dish = to_categorical(val_df['dish'].values)\n",
    "val_df['dishOneHot'] = onehot_dish.tolist()\n",
    "onehot_dish = to_categorical(test_df['dish'].values)\n",
    "test_df['dishOneHot'] = onehot_dish.tolist()\n"
   ]
  },
  {
   "cell_type": "markdown",
   "metadata": {},
   "source": [
    "## Funciones para Condition-CNN y Modelo 3"
   ]
  },
  {
   "cell_type": "code",
   "execution_count": 6,
   "metadata": {},
   "outputs": [],
   "source": [
    "class NonNegUnitNorm(Constraint):\n",
    "    '''Enforces all weight elements to be non-0 and each column/row to be unit norm'''\n",
    "    def __init__(self, axis=1):\n",
    "        self.axis=axis\n",
    "    def __call__(self, w):\n",
    "        w = w * math_ops.cast(math_ops.greater_equal(w, 0.), K.floatx())\n",
    "        return w / (\n",
    "            K.epsilon() + K.sqrt(\n",
    "                math_ops.reduce_sum(\n",
    "                    math_ops.square(w), axis=self.axis, keepdims=True)))\n",
    "\n",
    "    def get_config(self):\n",
    "        return {'axis': self.axis}"
   ]
  },
  {
   "cell_type": "code",
   "execution_count": 7,
   "metadata": {},
   "outputs": [],
   "source": [
    "def get_flow_from_dataframe(g, dataframe,image_shape,batch_size):\n",
    "    while True:\n",
    "        x_1 = g.next()\n",
    "        yield [x_1[0], x_1[1][0]], x_1[1]"
   ]
  },
  {
   "cell_type": "markdown",
   "metadata": {},
   "source": [
    "# Condition-CNN\n",
    "Articulo: https://www.sciencedirect.com/science/article/abs/pii/S0957417421006291"
   ]
  },
  {
   "cell_type": "code",
   "execution_count": 8,
   "metadata": {},
   "outputs": [],
   "source": [
    "# VGG16 pre-trained weights\n",
    "WEIGHTS_PATH = 'https://github.com/fchollet/deep-learning-models/releases/download/v0.1/vgg16_weights_tf_dim_ordering_tf_kernels.h5'\n",
    "weights_path = get_file('vgg16_weights_tf_dim_ordering_tf_kernels.h5',\n",
    "                        WEIGHTS_PATH,\n",
    "                        cache_subdir='./weights')"
   ]
  },
  {
   "cell_type": "markdown",
   "metadata": {},
   "source": [
    "## Modelo\n",
    "Modelo (adaptado) del repositorio en el que se baso el articulo: https://github.com/bKolisnik/Condition-CNN/tree/master\n",
    "\n",
    "En especifico se uso la implementación Condition-CNN como base."
   ]
  },
  {
   "cell_type": "code",
   "execution_count": 9,
   "metadata": {},
   "outputs": [],
   "source": [
    "class ConditionTrain:\n",
    "    '''This model is based off of VGG16 with the addition of BatchNorm layers and then branching '''\n",
    "\n",
    "    def __init__(self,label):\n",
    "        self.master_classes=3\n",
    "        self.sub_classes=101\n",
    "        \n",
    "        '''Three inputs to model for training, image, labels for teacher forcing'''\n",
    "        input_image = tf.keras.layers.Input(shape=(224,224,3),name=\"InputImg\")\n",
    "\n",
    "        #3 element vector for the masterCategory types\n",
    "        input_master = tf.keras.layers.Input(shape=(self.master_classes))\n",
    "\n",
    "        #Layers are named to be same as VGG16\n",
    "\n",
    "        #--- block 1 ---\n",
    "        x = tf.keras.layers.Conv2D(64, (3, 3), activation='relu', padding='same', name='block1_conv1')(input_image)\n",
    "        x = tf.keras.layers.BatchNormalization()(x)\n",
    "        x = tf.keras.layers.Conv2D(64, (3, 3), activation='relu', padding='same', name='block1_conv2')(x)\n",
    "        x = tf.keras.layers.BatchNormalization()(x)\n",
    "        x = tf.keras.layers.MaxPooling2D((2, 2), strides=(2, 2), name='block1_pool')(x)\n",
    "\n",
    "        #--- block 2 ---\n",
    "        x = tf.keras.layers.Conv2D(128, (3, 3), activation='relu', padding='same', name='block2_conv1')(x)\n",
    "        x = tf.keras.layers.BatchNormalization()(x)\n",
    "        x = tf.keras.layers.Conv2D(128, (3, 3), activation='relu', padding='same', name='block2_conv2')(x)\n",
    "        x = tf.keras.layers.BatchNormalization()(x)\n",
    "        x = tf.keras.layers.MaxPooling2D((2, 2), strides=(2, 2), name='block2_pool')(x)\n",
    "\n",
    "        #--- block 3 ---\n",
    "        x = tf.keras.layers.Conv2D(256, (3, 3), activation='relu', padding='same', name='block3_conv1')(x)\n",
    "        x = tf.keras.layers.BatchNormalization()(x)\n",
    "        x = tf.keras.layers.Conv2D(256, (3, 3), activation='relu', padding='same', name='block3_conv2')(x)\n",
    "        x = tf.keras.layers.BatchNormalization()(x)\n",
    "        x = tf.keras.layers.MaxPooling2D((2, 2), strides=(2, 2), name='block3_pool')(x)\n",
    "\n",
    "        #--- block 4 ---\n",
    "        x = tf.keras.layers.Conv2D(512, (3, 3), activation='relu', padding='same', name='block4_conv1')(x)\n",
    "        x = tf.keras.layers.BatchNormalization()(x)\n",
    "        x = tf.keras.layers.Conv2D(512, (3, 3), activation='relu', padding='same', name='block4_conv2')(x)\n",
    "        x = tf.keras.layers.BatchNormalization()(x)\n",
    "        x = tf.keras.layers.MaxPooling2D((2, 2), strides=(2, 2), name='block4_pool')(x)\n",
    "\n",
    "        #--- block 5 masterCategory ---\n",
    "        x1 = tf.keras.layers.Conv2D(512, (3, 3), activation='relu', padding='same', name='block5_conv1_mas')(x)\n",
    "        x1 = tf.keras.layers.BatchNormalization()(x1)\n",
    "        x1 = tf.keras.layers.Conv2D(512, (3, 3), activation='relu', padding='same', name='block5_conv2_mas')(x1)\n",
    "        x1 = tf.keras.layers.BatchNormalization()(x1)\n",
    "        x1 = tf.keras.layers.Conv2D(512, (3, 3), activation='relu', padding='same', name='block5_conv3_mas')(x1)\n",
    "        x1 = tf.keras.layers.BatchNormalization()(x1)\n",
    "\n",
    "        #--- masterCategory prediction branch ---\n",
    "        c_1_bch = tf.keras.layers.Flatten(name='c1_flatten')(x1)\n",
    "        c_1_bch = tf.keras.layers.Dense(256, activation='relu', name='c1_fc_mas')(c_1_bch)\n",
    "        c_1_bch = tf.keras.layers.BatchNormalization()(c_1_bch)\n",
    "        c_1_bch = tf.keras.layers.Dropout(0.5)(c_1_bch)\n",
    "        c_1_bch = tf.keras.layers.Dense(256, activation='relu', name='c1_fc2_mas')(c_1_bch)\n",
    "        c_1_bch = tf.keras.layers.BatchNormalization()(c_1_bch)\n",
    "        c_1_bch = tf.keras.layers.Dropout(0.5)(c_1_bch)\n",
    "        c_1_pred = tf.keras.layers.Dense(self.master_classes, activation='softmax', name='master_output')(c_1_bch)\n",
    "\n",
    "        #--- block 5 subCategory ---\n",
    "        x2 = tf.keras.layers.Conv2D(512, (3, 3), activation='relu', padding='same', name='block5_conv1_sub')(x)\n",
    "        x2 = tf.keras.layers.BatchNormalization()(x2)\n",
    "        x2 = tf.keras.layers.Conv2D(512, (3, 3), activation='relu', padding='same', name='block5_conv2_sub')(x2)\n",
    "        x2 = tf.keras.layers.BatchNormalization()(x2)\n",
    "        x2 = tf.keras.layers.Conv2D(512, (3, 3), activation='relu', padding='same', name='block5_conv3_sub')(x2)\n",
    "        x2 = tf.keras.layers.BatchNormalization()(x2)\n",
    "\n",
    "        #--- coarse 2 branch ---\n",
    "        c_2_bch = tf.keras.layers.Flatten(name='c2_flatten')(x2)\n",
    "        c_2_bch = tf.keras.layers.Dense(1024, activation='relu', name='c2_fc_sub')(c_2_bch)\n",
    "        c_2_bch = tf.keras.layers.BatchNormalization()(c_2_bch)\n",
    "        c_2_bch = tf.keras.layers.Dropout(0.5)(c_2_bch)\n",
    "        c_2_bch = tf.keras.layers.Dense(1024, activation='relu', name='c2_fc2_sub')(c_2_bch)\n",
    "        c_2_bch = tf.keras.layers.BatchNormalization()(c_2_bch)\n",
    "        c_2_bch = tf.keras.layers.Dropout(0.5)(c_2_bch)\n",
    "\n",
    "        #--- masterCategory conditioning for subCategory branch ---\n",
    "        c_1_condition = tf.keras.layers.Dense(self.sub_classes, activation=None, use_bias=False, kernel_constraint=NonNegUnitNorm(),kernel_initializer=Zeros(),name='c_1_condition')(input_master)\n",
    "        c_2_raw = tf.keras.layers.Dense(self.sub_classes, activation='relu', name='c_2_raw')(c_2_bch)\n",
    "        preds_features = tf.keras.layers.Add()([c_1_condition,c_2_raw])\n",
    "        c_2_pred = tf.keras.layers.Dense(self.sub_classes, activation='softmax', name='sub_output')(preds_features)\n",
    "        #c_2_pred = tf.keras.layers.Softmax(name='sub_output')(preds_features)\n",
    "\n",
    "        model = tf.keras.models.Model(\n",
    "            inputs=[input_image,input_master],\n",
    "            outputs=[c_1_pred, c_2_pred],\n",
    "            name=\"Condition_CNN\")\n",
    "\n",
    "        trainable_params = np.sum([K.count_params(w) for w in model.trainable_weights])\n",
    "        #trainable_params = tf.keras.backend.count_params(model.trainable_weights)\n",
    "        print(\"Trainable paramaters: \"+str(trainable_params))\n",
    "\n",
    "        losses = {\n",
    "            \"master_output\": \"categorical_crossentropy\",\n",
    "            \"sub_output\": \"categorical_crossentropy\"\n",
    "        }\n",
    "        model.compile(optimizer=SGD(learning_rate=0.001, momentum=0.9), loss=losses,\n",
    "                        metrics=['categorical_accuracy'])\n",
    "        \n",
    "        model.summary()\n",
    "\n",
    "        checkpoint = ModelCheckpoint(\"./weights/\"+label+\"_best_weights_train.h5\", monitor='val_loss', verbose=1,\n",
    "            save_best_only=True, save_weights_only=True,mode='auto')\n",
    "        self.cbks = [checkpoint]\n",
    "        self.model = model\n",
    "\n",
    "class ConditionTest:\n",
    "    '''One parameter model which is a keras model'''\n",
    "\n",
    "    def __init__(self,label):\n",
    "\n",
    "        self.master_classes=3\n",
    "        self.sub_classes=101\n",
    "\n",
    "\n",
    "        input_image = tf.keras.layers.Input(shape=(224,224,3),name=\"InputImg\")\n",
    "\n",
    "        #Layers are named to be same as VGG16\n",
    "\n",
    "        #will need to center and scale data. -> done in generator\n",
    "\n",
    "        #--- block 1 ---\n",
    "        x = tf.keras.layers.Conv2D(64, (3, 3), activation='relu', padding='same', name='block1_conv1')(input_image)\n",
    "        x = tf.keras.layers.BatchNormalization()(x)\n",
    "        x = tf.keras.layers.Conv2D(64, (3, 3), activation='relu', padding='same', name='block1_conv2')(x)\n",
    "        x = tf.keras.layers.BatchNormalization()(x)\n",
    "        x = tf.keras.layers.MaxPooling2D((2, 2), strides=(2, 2), name='block1_pool')(x)\n",
    "\n",
    "        #--- block 2 ---\n",
    "        x = tf.keras.layers.Conv2D(128, (3, 3), activation='relu', padding='same', name='block2_conv1')(x)\n",
    "        x = tf.keras.layers.BatchNormalization()(x)\n",
    "        x = tf.keras.layers.Conv2D(128, (3, 3), activation='relu', padding='same', name='block2_conv2')(x)\n",
    "        x = tf.keras.layers.BatchNormalization()(x)\n",
    "        x = tf.keras.layers.MaxPooling2D((2, 2), strides=(2, 2), name='block2_pool')(x)\n",
    "\n",
    "        #--- block 3 ---\n",
    "        x = tf.keras.layers.Conv2D(256, (3, 3), activation='relu', padding='same', name='block3_conv1')(x)\n",
    "        x = tf.keras.layers.BatchNormalization()(x)\n",
    "        x = tf.keras.layers.Conv2D(256, (3, 3), activation='relu', padding='same', name='block3_conv2')(x)\n",
    "        x = tf.keras.layers.BatchNormalization()(x)\n",
    "        x = tf.keras.layers.MaxPooling2D((2, 2), strides=(2, 2), name='block3_pool')(x)\n",
    "\n",
    "        #--- block 4 ---\n",
    "        x = tf.keras.layers.Conv2D(512, (3, 3), activation='relu', padding='same', name='block4_conv1')(x)\n",
    "        x = tf.keras.layers.BatchNormalization()(x)\n",
    "        x = tf.keras.layers.Conv2D(512, (3, 3), activation='relu', padding='same', name='block4_conv2')(x)\n",
    "        x = tf.keras.layers.BatchNormalization()(x)\n",
    "        x = tf.keras.layers.MaxPooling2D((2, 2), strides=(2, 2), name='block4_pool')(x)\n",
    "\n",
    "        #--- block 5 masterCategory ---\n",
    "        x1 = tf.keras.layers.Conv2D(512, (3, 3), activation='relu', padding='same', name='block5_conv1_mas')(x)\n",
    "        x1 = tf.keras.layers.BatchNormalization()(x1)\n",
    "        x1 = tf.keras.layers.Conv2D(512, (3, 3), activation='relu', padding='same', name='block5_conv2_mas')(x1)\n",
    "        x1 = tf.keras.layers.BatchNormalization()(x1)\n",
    "        x1 = tf.keras.layers.Conv2D(512, (3, 3), activation='relu', padding='same', name='block5_conv3_mas')(x1)\n",
    "        x1 = tf.keras.layers.BatchNormalization()(x1)\n",
    "\n",
    "        #--- masterCategory prediction branch ---\n",
    "        c_1_bch = tf.keras.layers.Flatten(name='c1_flatten')(x1)\n",
    "        c_1_bch = tf.keras.layers.Dense(256, activation='relu', name='c1_fc_mas')(c_1_bch)\n",
    "        c_1_bch = tf.keras.layers.BatchNormalization()(c_1_bch)\n",
    "        c_1_bch = tf.keras.layers.Dropout(0.5)(c_1_bch)\n",
    "        c_1_bch = tf.keras.layers.Dense(256, activation='relu', name='c1_fc2_mas')(c_1_bch)\n",
    "        c_1_bch = tf.keras.layers.BatchNormalization()(c_1_bch)\n",
    "        c_1_bch = tf.keras.layers.Dropout(0.5)(c_1_bch)\n",
    "        c_1_pred = tf.keras.layers.Dense(self.master_classes, activation='softmax', name='master_output')(c_1_bch)\n",
    "\n",
    "        #--- block 5 subCategory ---\n",
    "        x2 = tf.keras.layers.Conv2D(512, (3, 3), activation='relu', padding='same', name='block5_conv1_sub')(x)\n",
    "        x2 = tf.keras.layers.BatchNormalization()(x2)\n",
    "        x2 = tf.keras.layers.Conv2D(512, (3, 3), activation='relu', padding='same', name='block5_conv2_sub')(x2)\n",
    "        x2 = tf.keras.layers.BatchNormalization()(x2)\n",
    "        x2 = tf.keras.layers.Conv2D(512, (3, 3), activation='relu', padding='same', name='block5_conv3_sub')(x2)\n",
    "        x2 = tf.keras.layers.BatchNormalization()(x2)\n",
    "\n",
    "        #--- coarse 2 branch ---\n",
    "        c_2_bch = tf.keras.layers.Flatten(name='c2_flatten')(x2)\n",
    "        c_2_bch = tf.keras.layers.Dense(1024, activation='relu', name='c2_fc_sub')(c_2_bch)\n",
    "        c_2_bch = tf.keras.layers.BatchNormalization()(c_2_bch)\n",
    "        c_2_bch = tf.keras.layers.Dropout(0.5)(c_2_bch)\n",
    "        c_2_bch = tf.keras.layers.Dense(1024, activation='relu', name='c2_fc2_sub')(c_2_bch)\n",
    "        c_2_bch = tf.keras.layers.BatchNormalization()(c_2_bch)\n",
    "        c_2_bch = tf.keras.layers.Dropout(0.5)(c_2_bch)\n",
    "\n",
    "        #--- masterCategory conditioning for subCategory branch ---\n",
    "        c_1_condition = tf.keras.layers.Dense(self.sub_classes, activation=None, use_bias=False, kernel_constraint=NonNegUnitNorm(),name='c_1_condition')(c_1_pred)\n",
    "        c_2_raw = tf.keras.layers.Dense(self.sub_classes, activation='relu', name='c_2_raw')(c_2_bch)\n",
    "        preds_features = tf.keras.layers.Add()([c_1_condition,c_2_raw])\n",
    "        c_2_pred = tf.keras.layers.Dense(self.sub_classes, activation='softmax', name='sub_output')(preds_features)\n",
    "        #c_2_pred = tf.keras.layers.Softmax(name='sub_output')(preds_features)\n",
    "\n",
    "        model = tf.keras.models.Model(\n",
    "            inputs=[input_image],\n",
    "            outputs=[c_1_pred, c_2_pred],\n",
    "            name=\"Condition_CNN\")\n",
    "        \n",
    "        losses = {\n",
    "            \"master_output\": \"categorical_crossentropy\",\n",
    "            \"sub_output\": \"categorical_crossentropy\"\n",
    "        }\n",
    "\n",
    "        trainable_params= np.sum([K.count_params(w) for w in model.trainable_weights])\n",
    "        #trainable_params = tf.keras.backend.count_params(model.trainable_weights)\n",
    "        print(\"Trainable paramaters: \"+str(trainable_params))\n",
    "\n",
    "        model.compile(optimizer=SGD(learning_rate=0.001, momentum=0.9), loss=losses,\n",
    "                        metrics=['categorical_accuracy'])\n",
    "\n",
    "        checkpoint = ModelCheckpoint(\"./weights/\"+label+\"_best_weights.h5\", monitor='val_loss', verbose=1,\n",
    "            save_best_only=True, save_weights_only=True,mode='auto')\n",
    "        self.cbks = [checkpoint]\n",
    "        self.model = model"
   ]
  },
  {
   "cell_type": "markdown",
   "metadata": {},
   "source": [
    "## Opciones"
   ]
  },
  {
   "cell_type": "code",
   "execution_count": 10,
   "metadata": {},
   "outputs": [],
   "source": [
    "model_type = \"Condition\"\n",
    "epochs = 50\n",
    "batch = 8\n",
    "target_size = (224, 224)\n",
    "direc = \"./\"\n",
    "TODAY = str(datetime.date(datetime.now()))"
   ]
  },
  {
   "cell_type": "code",
   "execution_count": 11,
   "metadata": {},
   "outputs": [],
   "source": [
    "# Generador de imagenes\n",
    "train_datagen = ImageDataGenerator(rescale=1. / 255,\n",
    "                                    shear_range=0.1,\n",
    "                                    zoom_range=0.1,\n",
    "                                    horizontal_flip=True,\n",
    "                                    samplewise_center=True,\n",
    "                                    samplewise_std_normalization=True)\n",
    "\n",
    "# Centrar imagenes\n",
    "val_datagen = ImageDataGenerator(rescale=1. / 255,\n",
    "                                    samplewise_center=True,\n",
    "                                    samplewise_std_normalization=True)\n",
    "test_datagen = ImageDataGenerator(rescale=1. / 255,\n",
    "                                    samplewise_center=True,\n",
    "                                    samplewise_std_normalization=True)"
   ]
  },
  {
   "cell_type": "markdown",
   "metadata": {},
   "source": [
    "## Entrenamiento"
   ]
  },
  {
   "cell_type": "code",
   "execution_count": 7,
   "metadata": {},
   "outputs": [],
   "source": [
    "def train(label, model,cbks):\n",
    "    model.load_weights(weights_path, by_name=True)\n",
    "    train = train_datagen.flow_from_dataframe(\n",
    "        dataframe=train_df,\n",
    "        directory=direc,\n",
    "        x_col=\"path\",\n",
    "        y_col=['food_categoryOneHot','dishOneHot'],\n",
    "        target_size=target_size,\n",
    "        batch_size=batch,\n",
    "        class_mode='multi_output')\n",
    "    val = val_datagen.flow_from_dataframe(\n",
    "        dataframe=val_df,\n",
    "        directory=direc,\n",
    "        x_col=\"path\",\n",
    "        y_col=['food_categoryOneHot','dishOneHot'],\n",
    "        target_size=target_size,\n",
    "        batch_size=batch,\n",
    "        class_mode='multi_output')\n",
    "\n",
    "    train_generator = get_flow_from_dataframe(train,dataframe=train_df,image_shape=target_size,batch_size=batch)\n",
    "    val_generator = get_flow_from_dataframe(val,dataframe=val_df,image_shape=target_size,batch_size=batch)\n",
    "    try:\n",
    "        STEP_SIZE_TRAIN = train.n // train.batch_size\n",
    "        STEP_SIZE_VALID = val.n // val.batch_size\n",
    "        history = model.fit(train_generator,\n",
    "                            epochs=epochs,\n",
    "                            validation_data=val_generator,\n",
    "                            steps_per_epoch=STEP_SIZE_TRAIN,\n",
    "                            validation_steps=STEP_SIZE_VALID,\n",
    "                            callbacks=cbks)\n",
    "        print(\"Finished training\")\n",
    "        \n",
    "        #Save training as csv\n",
    "        pd.DataFrame.from_dict(history.history).to_csv(\"./history/\"+label+\"_\"+str(epochs)+\"_epochs_\"+TODAY+'.csv',index=False)\n",
    "\n",
    "        # summarize history for loss\n",
    "        plt.plot(history.history['master_output_loss'])\n",
    "        plt.plot(history.history['val_master_output_loss'])\n",
    "        plt.plot(history.history['sub_output_loss'])\n",
    "        plt.plot(history.history['val_sub_output_loss'])\n",
    "        plt.title('model loss')\n",
    "        plt.ylabel('loss')\n",
    "        plt.xlabel('epoch')\n",
    "        plt.legend(['train master', 'val master', 'train sub', 'val sub'], loc='upper left')\n",
    "        plt.show()\n",
    "        plt.savefig(\"./plots/\"+label+\"_\"+str(epochs)+\"_epochs_\"+TODAY+\"_loss.png\", bbox_inches='tight')\n",
    "    except ValueError as v:\n",
    "        print(v)\n",
    "\n",
    "    # Saving the weights in the current directory\n",
    "    model.save_weights(\"./weights/\"+label+\"_\"+str(epochs)+\"_epochs_\"+TODAY+\".h5\")"
   ]
  },
  {
   "cell_type": "code",
   "execution_count": 13,
   "metadata": {},
   "outputs": [
    {
     "name": "stdout",
     "output_type": "stream",
     "text": [
      "Trainable paramaters: 148541461\n",
      "Model: \"Condition_CNN\"\n",
      "__________________________________________________________________________________________________\n",
      " Layer (type)                   Output Shape         Param #     Connected to                     \n",
      "==================================================================================================\n",
      " InputImg (InputLayer)          [(None, 224, 224, 3  0           []                               \n",
      "                                )]                                                                \n",
      "                                                                                                  \n",
      " block1_conv1 (Conv2D)          (None, 224, 224, 64  1792        ['InputImg[0][0]']               \n",
      "                                )                                                                 \n",
      "                                                                                                  \n",
      " batch_normalization (BatchNorm  (None, 224, 224, 64  256        ['block1_conv1[0][0]']           \n",
      " alization)                     )                                                                 \n",
      "                                                                                                  \n",
      " block1_conv2 (Conv2D)          (None, 224, 224, 64  36928       ['batch_normalization[0][0]']    \n",
      "                                )                                                                 \n",
      "                                                                                                  \n",
      " batch_normalization_1 (BatchNo  (None, 224, 224, 64  256        ['block1_conv2[0][0]']           \n",
      " rmalization)                   )                                                                 \n",
      "                                                                                                  \n",
      " block1_pool (MaxPooling2D)     (None, 112, 112, 64  0           ['batch_normalization_1[0][0]']  \n",
      "                                )                                                                 \n",
      "                                                                                                  \n",
      " block2_conv1 (Conv2D)          (None, 112, 112, 12  73856       ['block1_pool[0][0]']            \n",
      "                                8)                                                                \n",
      "                                                                                                  \n",
      " batch_normalization_2 (BatchNo  (None, 112, 112, 12  512        ['block2_conv1[0][0]']           \n",
      " rmalization)                   8)                                                                \n",
      "                                                                                                  \n",
      " block2_conv2 (Conv2D)          (None, 112, 112, 12  147584      ['batch_normalization_2[0][0]']  \n",
      "                                8)                                                                \n",
      "                                                                                                  \n",
      " batch_normalization_3 (BatchNo  (None, 112, 112, 12  512        ['block2_conv2[0][0]']           \n",
      " rmalization)                   8)                                                                \n",
      "                                                                                                  \n",
      " block2_pool (MaxPooling2D)     (None, 56, 56, 128)  0           ['batch_normalization_3[0][0]']  \n",
      "                                                                                                  \n",
      " block3_conv1 (Conv2D)          (None, 56, 56, 256)  295168      ['block2_pool[0][0]']            \n",
      "                                                                                                  \n",
      " batch_normalization_4 (BatchNo  (None, 56, 56, 256)  1024       ['block3_conv1[0][0]']           \n",
      " rmalization)                                                                                     \n",
      "                                                                                                  \n",
      " block3_conv2 (Conv2D)          (None, 56, 56, 256)  590080      ['batch_normalization_4[0][0]']  \n",
      "                                                                                                  \n",
      " batch_normalization_5 (BatchNo  (None, 56, 56, 256)  1024       ['block3_conv2[0][0]']           \n",
      " rmalization)                                                                                     \n",
      "                                                                                                  \n",
      " block3_pool (MaxPooling2D)     (None, 28, 28, 256)  0           ['batch_normalization_5[0][0]']  \n",
      "                                                                                                  \n",
      " block4_conv1 (Conv2D)          (None, 28, 28, 512)  1180160     ['block3_pool[0][0]']            \n",
      "                                                                                                  \n",
      " batch_normalization_6 (BatchNo  (None, 28, 28, 512)  2048       ['block4_conv1[0][0]']           \n",
      " rmalization)                                                                                     \n",
      "                                                                                                  \n",
      " block4_conv2 (Conv2D)          (None, 28, 28, 512)  2359808     ['batch_normalization_6[0][0]']  \n",
      "                                                                                                  \n",
      " batch_normalization_7 (BatchNo  (None, 28, 28, 512)  2048       ['block4_conv2[0][0]']           \n",
      " rmalization)                                                                                     \n",
      "                                                                                                  \n",
      " block4_pool (MaxPooling2D)     (None, 14, 14, 512)  0           ['batch_normalization_7[0][0]']  \n",
      "                                                                                                  \n",
      " block5_conv1_sub (Conv2D)      (None, 14, 14, 512)  2359808     ['block4_pool[0][0]']            \n",
      "                                                                                                  \n",
      " batch_normalization_13 (BatchN  (None, 14, 14, 512)  2048       ['block5_conv1_sub[0][0]']       \n",
      " ormalization)                                                                                    \n",
      "                                                                                                  \n",
      " block5_conv1_mas (Conv2D)      (None, 14, 14, 512)  2359808     ['block4_pool[0][0]']            \n",
      "                                                                                                  \n",
      " block5_conv2_sub (Conv2D)      (None, 14, 14, 512)  2359808     ['batch_normalization_13[0][0]'] \n",
      "                                                                                                  \n",
      " batch_normalization_8 (BatchNo  (None, 14, 14, 512)  2048       ['block5_conv1_mas[0][0]']       \n",
      " rmalization)                                                                                     \n",
      "                                                                                                  \n",
      " batch_normalization_14 (BatchN  (None, 14, 14, 512)  2048       ['block5_conv2_sub[0][0]']       \n",
      " ormalization)                                                                                    \n",
      "                                                                                                  \n",
      " block5_conv2_mas (Conv2D)      (None, 14, 14, 512)  2359808     ['batch_normalization_8[0][0]']  \n",
      "                                                                                                  \n",
      " block5_conv3_sub (Conv2D)      (None, 14, 14, 512)  2359808     ['batch_normalization_14[0][0]'] \n",
      "                                                                                                  \n",
      " batch_normalization_9 (BatchNo  (None, 14, 14, 512)  2048       ['block5_conv2_mas[0][0]']       \n",
      " rmalization)                                                                                     \n",
      "                                                                                                  \n",
      " batch_normalization_15 (BatchN  (None, 14, 14, 512)  2048       ['block5_conv3_sub[0][0]']       \n",
      " ormalization)                                                                                    \n",
      "                                                                                                  \n",
      " block5_conv3_mas (Conv2D)      (None, 14, 14, 512)  2359808     ['batch_normalization_9[0][0]']  \n",
      "                                                                                                  \n",
      " c2_flatten (Flatten)           (None, 100352)       0           ['batch_normalization_15[0][0]'] \n",
      "                                                                                                  \n",
      " batch_normalization_10 (BatchN  (None, 14, 14, 512)  2048       ['block5_conv3_mas[0][0]']       \n",
      " ormalization)                                                                                    \n",
      "                                                                                                  \n",
      " c2_fc_sub (Dense)              (None, 1024)         102761472   ['c2_flatten[0][0]']             \n",
      "                                                                                                  \n",
      " c1_flatten (Flatten)           (None, 100352)       0           ['batch_normalization_10[0][0]'] \n",
      "                                                                                                  \n",
      " batch_normalization_16 (BatchN  (None, 1024)        4096        ['c2_fc_sub[0][0]']              \n",
      " ormalization)                                                                                    \n",
      "                                                                                                  \n",
      " c1_fc_mas (Dense)              (None, 256)          25690368    ['c1_flatten[0][0]']             \n",
      "                                                                                                  \n",
      " dropout_2 (Dropout)            (None, 1024)         0           ['batch_normalization_16[0][0]'] \n",
      "                                                                                                  \n",
      " batch_normalization_11 (BatchN  (None, 256)         1024        ['c1_fc_mas[0][0]']              \n",
      " ormalization)                                                                                    \n",
      "                                                                                                  \n",
      " c2_fc2_sub (Dense)             (None, 1024)         1049600     ['dropout_2[0][0]']              \n",
      "                                                                                                  \n",
      " dropout (Dropout)              (None, 256)          0           ['batch_normalization_11[0][0]'] \n",
      "                                                                                                  \n",
      " batch_normalization_17 (BatchN  (None, 1024)        4096        ['c2_fc2_sub[0][0]']             \n",
      " ormalization)                                                                                    \n",
      "                                                                                                  \n",
      " c1_fc2_mas (Dense)             (None, 256)          65792       ['dropout[0][0]']                \n",
      "                                                                                                  \n",
      " input_1 (InputLayer)           [(None, 3)]          0           []                               \n",
      "                                                                                                  \n",
      " dropout_3 (Dropout)            (None, 1024)         0           ['batch_normalization_17[0][0]'] \n",
      "                                                                                                  \n",
      " batch_normalization_12 (BatchN  (None, 256)         1024        ['c1_fc2_mas[0][0]']             \n",
      " ormalization)                                                                                    \n",
      "                                                                                                  \n",
      " c_1_condition (Dense)          (None, 101)          303         ['input_1[0][0]']                \n",
      "                                                                                                  \n",
      " c_2_raw (Dense)                (None, 101)          103525      ['dropout_3[0][0]']              \n",
      "                                                                                                  \n",
      " dropout_1 (Dropout)            (None, 256)          0           ['batch_normalization_12[0][0]'] \n",
      "                                                                                                  \n",
      " add (Add)                      (None, 101)          0           ['c_1_condition[0][0]',          \n",
      "                                                                  'c_2_raw[0][0]']                \n",
      "                                                                                                  \n",
      " master_output (Dense)          (None, 3)            771         ['dropout_1[0][0]']              \n",
      "                                                                                                  \n",
      " sub_output (Dense)             (None, 101)          10302       ['add[0][0]']                    \n",
      "                                                                                                  \n",
      "==================================================================================================\n",
      "Total params: 148,556,565\n",
      "Trainable params: 148,541,461\n",
      "Non-trainable params: 15,104\n",
      "__________________________________________________________________________________________________\n",
      "Found 49237 validated image filenames.\n",
      "Found 7575 validated image filenames.\n",
      "Epoch 1/50\n",
      "6154/6154 [==============================] - ETA: 0s - loss: 5.2448 - master_output_loss: 0.7186 - sub_output_loss: 4.5262 - master_output_categorical_accuracy: 0.7071 - sub_output_categorical_accuracy: 0.0377\n",
      "Epoch 1: val_loss improved from inf to 4.59530, saving model to ./weights\\Condition_best_weights_train.h5\n",
      "6154/6154 [==============================] - 851s 136ms/step - loss: 5.2448 - master_output_loss: 0.7186 - sub_output_loss: 4.5262 - master_output_categorical_accuracy: 0.7071 - sub_output_categorical_accuracy: 0.0377 - val_loss: 4.5953 - val_master_output_loss: 0.5976 - val_sub_output_loss: 3.9977 - val_master_output_categorical_accuracy: 0.7340 - val_sub_output_categorical_accuracy: 0.0790\n",
      "Epoch 2/50\n",
      "6154/6154 [==============================] - ETA: 0s - loss: 4.5797 - master_output_loss: 0.6219 - sub_output_loss: 3.9578 - master_output_categorical_accuracy: 0.7374 - sub_output_categorical_accuracy: 0.0899\n",
      "Epoch 2: val_loss improved from 4.59530 to 4.33678, saving model to ./weights\\Condition_best_weights_train.h5\n",
      "6154/6154 [==============================] - 810s 131ms/step - loss: 4.5797 - master_output_loss: 0.6219 - sub_output_loss: 3.9578 - master_output_categorical_accuracy: 0.7374 - sub_output_categorical_accuracy: 0.0899 - val_loss: 4.3368 - val_master_output_loss: 0.5909 - val_sub_output_loss: 3.7459 - val_master_output_categorical_accuracy: 0.7283 - val_sub_output_categorical_accuracy: 0.1254\n",
      "Epoch 3/50\n",
      "6154/6154 [==============================] - ETA: 0s - loss: 4.1609 - master_output_loss: 0.5749 - sub_output_loss: 3.5860 - master_output_categorical_accuracy: 0.7551 - sub_output_categorical_accuracy: 0.1431\n",
      "Epoch 3: val_loss improved from 4.33678 to 3.79502, saving model to ./weights\\Condition_best_weights_train.h5\n",
      "6154/6154 [==============================] - 808s 131ms/step - loss: 4.1609 - master_output_loss: 0.5749 - sub_output_loss: 3.5860 - master_output_categorical_accuracy: 0.7551 - sub_output_categorical_accuracy: 0.1431 - val_loss: 3.7950 - val_master_output_loss: 0.4882 - val_sub_output_loss: 3.3068 - val_master_output_categorical_accuracy: 0.7953 - val_sub_output_categorical_accuracy: 0.1940\n",
      "Epoch 4/50\n",
      "6154/6154 [==============================] - ETA: 0s - loss: 3.8897 - master_output_loss: 0.5372 - sub_output_loss: 3.3525 - master_output_categorical_accuracy: 0.7728 - sub_output_categorical_accuracy: 0.1828\n",
      "Epoch 4: val_loss improved from 3.79502 to 3.63265, saving model to ./weights\\Condition_best_weights_train.h5\n",
      "6154/6154 [==============================] - 808s 131ms/step - loss: 3.8897 - master_output_loss: 0.5372 - sub_output_loss: 3.3525 - master_output_categorical_accuracy: 0.7728 - sub_output_categorical_accuracy: 0.1828 - val_loss: 3.6326 - val_master_output_loss: 0.5193 - val_sub_output_loss: 3.1134 - val_master_output_categorical_accuracy: 0.7875 - val_sub_output_categorical_accuracy: 0.2339\n",
      "Epoch 5/50\n",
      "6154/6154 [==============================] - ETA: 0s - loss: 3.6733 - master_output_loss: 0.5075 - sub_output_loss: 3.1657 - master_output_categorical_accuracy: 0.7858 - sub_output_categorical_accuracy: 0.2131\n",
      "Epoch 5: val_loss improved from 3.63265 to 3.53616, saving model to ./weights\\Condition_best_weights_train.h5\n",
      "6154/6154 [==============================] - 810s 132ms/step - loss: 3.6733 - master_output_loss: 0.5075 - sub_output_loss: 3.1657 - master_output_categorical_accuracy: 0.7858 - sub_output_categorical_accuracy: 0.2131 - val_loss: 3.5362 - val_master_output_loss: 0.4838 - val_sub_output_loss: 3.0524 - val_master_output_categorical_accuracy: 0.8092 - val_sub_output_categorical_accuracy: 0.2503\n",
      "Epoch 6/50\n",
      "6154/6154 [==============================] - ETA: 0s - loss: 3.4838 - master_output_loss: 0.4873 - sub_output_loss: 2.9966 - master_output_categorical_accuracy: 0.7968 - sub_output_categorical_accuracy: 0.2468\n",
      "Epoch 6: val_loss improved from 3.53616 to 3.01551, saving model to ./weights\\Condition_best_weights_train.h5\n",
      "6154/6154 [==============================] - 808s 131ms/step - loss: 3.4838 - master_output_loss: 0.4873 - sub_output_loss: 2.9966 - master_output_categorical_accuracy: 0.7968 - sub_output_categorical_accuracy: 0.2468 - val_loss: 3.0155 - val_master_output_loss: 0.3997 - val_sub_output_loss: 2.6158 - val_master_output_categorical_accuracy: 0.8376 - val_sub_output_categorical_accuracy: 0.3323\n",
      "Epoch 7/50\n",
      "6154/6154 [==============================] - ETA: 0s - loss: 3.3070 - master_output_loss: 0.4656 - sub_output_loss: 2.8414 - master_output_categorical_accuracy: 0.8074 - sub_output_categorical_accuracy: 0.2775\n",
      "Epoch 7: val_loss did not improve from 3.01551\n",
      "6154/6154 [==============================] - 809s 131ms/step - loss: 3.3070 - master_output_loss: 0.4656 - sub_output_loss: 2.8414 - master_output_categorical_accuracy: 0.8074 - sub_output_categorical_accuracy: 0.2775 - val_loss: 3.0948 - val_master_output_loss: 0.4690 - val_sub_output_loss: 2.6257 - val_master_output_categorical_accuracy: 0.8026 - val_sub_output_categorical_accuracy: 0.3227\n",
      "Epoch 8/50\n",
      "6154/6154 [==============================] - ETA: 0s - loss: 3.1702 - master_output_loss: 0.4469 - sub_output_loss: 2.7233 - master_output_categorical_accuracy: 0.8156 - sub_output_categorical_accuracy: 0.3018\n",
      "Epoch 8: val_loss improved from 3.01551 to 2.74201, saving model to ./weights\\Condition_best_weights_train.h5\n",
      "6154/6154 [==============================] - 809s 131ms/step - loss: 3.1702 - master_output_loss: 0.4469 - sub_output_loss: 2.7233 - master_output_categorical_accuracy: 0.8156 - sub_output_categorical_accuracy: 0.3018 - val_loss: 2.7420 - val_master_output_loss: 0.3687 - val_sub_output_loss: 2.3733 - val_master_output_categorical_accuracy: 0.8451 - val_sub_output_categorical_accuracy: 0.3792\n",
      "Epoch 9/50\n",
      "6154/6154 [==============================] - ETA: 0s - loss: 3.0516 - master_output_loss: 0.4319 - sub_output_loss: 2.6197 - master_output_categorical_accuracy: 0.8224 - sub_output_categorical_accuracy: 0.3220\n",
      "Epoch 9: val_loss did not improve from 2.74201\n",
      "6154/6154 [==============================] - 810s 132ms/step - loss: 3.0516 - master_output_loss: 0.4319 - sub_output_loss: 2.6197 - master_output_categorical_accuracy: 0.8224 - sub_output_categorical_accuracy: 0.3220 - val_loss: 2.8105 - val_master_output_loss: 0.4087 - val_sub_output_loss: 2.4018 - val_master_output_categorical_accuracy: 0.8391 - val_sub_output_categorical_accuracy: 0.3795\n",
      "Epoch 10/50\n",
      "6154/6154 [==============================] - ETA: 0s - loss: 2.9406 - master_output_loss: 0.4222 - sub_output_loss: 2.5184 - master_output_categorical_accuracy: 0.8247 - sub_output_categorical_accuracy: 0.3436\n",
      "Epoch 10: val_loss improved from 2.74201 to 2.51083, saving model to ./weights\\Condition_best_weights_train.h5\n",
      "6154/6154 [==============================] - 808s 131ms/step - loss: 2.9406 - master_output_loss: 0.4222 - sub_output_loss: 2.5184 - master_output_categorical_accuracy: 0.8247 - sub_output_categorical_accuracy: 0.3436 - val_loss: 2.5108 - val_master_output_loss: 0.3457 - val_sub_output_loss: 2.1651 - val_master_output_categorical_accuracy: 0.8584 - val_sub_output_categorical_accuracy: 0.4308\n",
      "Epoch 11/50\n",
      "6154/6154 [==============================] - ETA: 0s - loss: 2.8294 - master_output_loss: 0.4094 - sub_output_loss: 2.4201 - master_output_categorical_accuracy: 0.8330 - sub_output_categorical_accuracy: 0.3649\n",
      "Epoch 11: val_loss improved from 2.51083 to 2.44627, saving model to ./weights\\Condition_best_weights_train.h5\n",
      "6154/6154 [==============================] - 809s 131ms/step - loss: 2.8294 - master_output_loss: 0.4094 - sub_output_loss: 2.4201 - master_output_categorical_accuracy: 0.8330 - sub_output_categorical_accuracy: 0.3649 - val_loss: 2.4463 - val_master_output_loss: 0.3446 - val_sub_output_loss: 2.1017 - val_master_output_categorical_accuracy: 0.8676 - val_sub_output_categorical_accuracy: 0.4460\n",
      "Epoch 12/50\n",
      "6154/6154 [==============================] - ETA: 0s - loss: 2.7021 - master_output_loss: 0.3870 - sub_output_loss: 2.3151 - master_output_categorical_accuracy: 0.8437 - sub_output_categorical_accuracy: 0.3899\n",
      "Epoch 12: val_loss did not improve from 2.44627\n",
      "6154/6154 [==============================] - 807s 131ms/step - loss: 2.7021 - master_output_loss: 0.3870 - sub_output_loss: 2.3151 - master_output_categorical_accuracy: 0.8437 - sub_output_categorical_accuracy: 0.3899 - val_loss: 2.5349 - val_master_output_loss: 0.4117 - val_sub_output_loss: 2.1232 - val_master_output_categorical_accuracy: 0.8258 - val_sub_output_categorical_accuracy: 0.4396\n",
      "Epoch 13/50\n",
      "6154/6154 [==============================] - ETA: 0s - loss: 2.6210 - master_output_loss: 0.3738 - sub_output_loss: 2.2472 - master_output_categorical_accuracy: 0.8498 - sub_output_categorical_accuracy: 0.4046\n",
      "Epoch 13: val_loss improved from 2.44627 to 2.43465, saving model to ./weights\\Condition_best_weights_train.h5\n",
      "6154/6154 [==============================] - 809s 132ms/step - loss: 2.6210 - master_output_loss: 0.3738 - sub_output_loss: 2.2472 - master_output_categorical_accuracy: 0.8498 - sub_output_categorical_accuracy: 0.4046 - val_loss: 2.4347 - val_master_output_loss: 0.3474 - val_sub_output_loss: 2.0872 - val_master_output_categorical_accuracy: 0.8594 - val_sub_output_categorical_accuracy: 0.4621\n",
      "Epoch 14/50\n",
      "6154/6154 [==============================] - ETA: 0s - loss: 2.5201 - master_output_loss: 0.3626 - sub_output_loss: 2.1575 - master_output_categorical_accuracy: 0.8556 - sub_output_categorical_accuracy: 0.4255\n",
      "Epoch 14: val_loss improved from 2.43465 to 2.28033, saving model to ./weights\\Condition_best_weights_train.h5\n",
      "6154/6154 [==============================] - 808s 131ms/step - loss: 2.5201 - master_output_loss: 0.3626 - sub_output_loss: 2.1575 - master_output_categorical_accuracy: 0.8556 - sub_output_categorical_accuracy: 0.4255 - val_loss: 2.2803 - val_master_output_loss: 0.2974 - val_sub_output_loss: 1.9829 - val_master_output_categorical_accuracy: 0.8842 - val_sub_output_categorical_accuracy: 0.4828\n",
      "Epoch 15/50\n",
      "6154/6154 [==============================] - ETA: 0s - loss: 2.4244 - master_output_loss: 0.3463 - sub_output_loss: 2.0781 - master_output_categorical_accuracy: 0.8631 - sub_output_categorical_accuracy: 0.4441\n",
      "Epoch 15: val_loss improved from 2.28033 to 2.16611, saving model to ./weights\\Condition_best_weights_train.h5\n",
      "6154/6154 [==============================] - 809s 131ms/step - loss: 2.4244 - master_output_loss: 0.3463 - sub_output_loss: 2.0781 - master_output_categorical_accuracy: 0.8631 - sub_output_categorical_accuracy: 0.4441 - val_loss: 2.1661 - val_master_output_loss: 0.3132 - val_sub_output_loss: 1.8529 - val_master_output_categorical_accuracy: 0.8718 - val_sub_output_categorical_accuracy: 0.5147\n",
      "Epoch 16/50\n",
      "6154/6154 [==============================] - ETA: 0s - loss: 2.3480 - master_output_loss: 0.3335 - sub_output_loss: 2.0144 - master_output_categorical_accuracy: 0.8675 - sub_output_categorical_accuracy: 0.4585\n",
      "Epoch 16: val_loss improved from 2.16611 to 2.07225, saving model to ./weights\\Condition_best_weights_train.h5\n",
      "6154/6154 [==============================] - 808s 131ms/step - loss: 2.3480 - master_output_loss: 0.3335 - sub_output_loss: 2.0144 - master_output_categorical_accuracy: 0.8675 - sub_output_categorical_accuracy: 0.4585 - val_loss: 2.0723 - val_master_output_loss: 0.2771 - val_sub_output_loss: 1.7952 - val_master_output_categorical_accuracy: 0.8897 - val_sub_output_categorical_accuracy: 0.5291\n",
      "Epoch 17/50\n",
      "6154/6154 [==============================] - ETA: 0s - loss: 2.2723 - master_output_loss: 0.3246 - sub_output_loss: 1.9477 - master_output_categorical_accuracy: 0.8740 - sub_output_categorical_accuracy: 0.4776\n",
      "Epoch 17: val_loss did not improve from 2.07225\n",
      "6154/6154 [==============================] - 808s 131ms/step - loss: 2.2723 - master_output_loss: 0.3246 - sub_output_loss: 1.9477 - master_output_categorical_accuracy: 0.8740 - sub_output_categorical_accuracy: 0.4776 - val_loss: 2.1507 - val_master_output_loss: 0.3210 - val_sub_output_loss: 1.8297 - val_master_output_categorical_accuracy: 0.8725 - val_sub_output_categorical_accuracy: 0.5226\n",
      "Epoch 18/50\n",
      "6154/6154 [==============================] - ETA: 0s - loss: 2.2327 - master_output_loss: 0.3174 - sub_output_loss: 1.9154 - master_output_categorical_accuracy: 0.8762 - sub_output_categorical_accuracy: 0.4841\n",
      "Epoch 18: val_loss improved from 2.07225 to 2.01490, saving model to ./weights\\Condition_best_weights_train.h5\n",
      "6154/6154 [==============================] - 808s 131ms/step - loss: 2.2327 - master_output_loss: 0.3174 - sub_output_loss: 1.9154 - master_output_categorical_accuracy: 0.8762 - sub_output_categorical_accuracy: 0.4841 - val_loss: 2.0149 - val_master_output_loss: 0.2801 - val_sub_output_loss: 1.7348 - val_master_output_categorical_accuracy: 0.8924 - val_sub_output_categorical_accuracy: 0.5432\n",
      "Epoch 19/50\n",
      "6154/6154 [==============================] - ETA: 0s - loss: 2.1218 - master_output_loss: 0.3015 - sub_output_loss: 1.8203 - master_output_categorical_accuracy: 0.8838 - sub_output_categorical_accuracy: 0.5094\n",
      "Epoch 19: val_loss did not improve from 2.01490\n",
      "6154/6154 [==============================] - 807s 131ms/step - loss: 2.1218 - master_output_loss: 0.3015 - sub_output_loss: 1.8203 - master_output_categorical_accuracy: 0.8838 - sub_output_categorical_accuracy: 0.5094 - val_loss: 2.0952 - val_master_output_loss: 0.3025 - val_sub_output_loss: 1.7927 - val_master_output_categorical_accuracy: 0.8778 - val_sub_output_categorical_accuracy: 0.5449\n",
      "Epoch 20/50\n",
      "6154/6154 [==============================] - ETA: 0s - loss: 2.0693 - master_output_loss: 0.2939 - sub_output_loss: 1.7754 - master_output_categorical_accuracy: 0.8871 - sub_output_categorical_accuracy: 0.5156\n",
      "Epoch 20: val_loss did not improve from 2.01490\n",
      "6154/6154 [==============================] - 810s 132ms/step - loss: 2.0693 - master_output_loss: 0.2939 - sub_output_loss: 1.7754 - master_output_categorical_accuracy: 0.8871 - sub_output_categorical_accuracy: 0.5156 - val_loss: 2.0331 - val_master_output_loss: 0.2959 - val_sub_output_loss: 1.7372 - val_master_output_categorical_accuracy: 0.8820 - val_sub_output_categorical_accuracy: 0.5428\n",
      "Epoch 21/50\n",
      "6154/6154 [==============================] - ETA: 0s - loss: 2.0010 - master_output_loss: 0.2784 - sub_output_loss: 1.7226 - master_output_categorical_accuracy: 0.8922 - sub_output_categorical_accuracy: 0.5293\n",
      "Epoch 21: val_loss improved from 2.01490 to 1.96315, saving model to ./weights\\Condition_best_weights_train.h5\n",
      "6154/6154 [==============================] - 810s 132ms/step - loss: 2.0010 - master_output_loss: 0.2784 - sub_output_loss: 1.7226 - master_output_categorical_accuracy: 0.8922 - sub_output_categorical_accuracy: 0.5293 - val_loss: 1.9631 - val_master_output_loss: 0.2905 - val_sub_output_loss: 1.6726 - val_master_output_categorical_accuracy: 0.8795 - val_sub_output_categorical_accuracy: 0.5592\n",
      "Epoch 22/50\n",
      "6154/6154 [==============================] - ETA: 0s - loss: 1.9341 - master_output_loss: 0.2726 - sub_output_loss: 1.6616 - master_output_categorical_accuracy: 0.8949 - sub_output_categorical_accuracy: 0.5468\n",
      "Epoch 22: val_loss improved from 1.96315 to 1.93596, saving model to ./weights\\Condition_best_weights_train.h5\n",
      "6154/6154 [==============================] - 810s 132ms/step - loss: 1.9341 - master_output_loss: 0.2726 - sub_output_loss: 1.6616 - master_output_categorical_accuracy: 0.8949 - sub_output_categorical_accuracy: 0.5468 - val_loss: 1.9360 - val_master_output_loss: 0.2693 - val_sub_output_loss: 1.6667 - val_master_output_categorical_accuracy: 0.8942 - val_sub_output_categorical_accuracy: 0.5670\n",
      "Epoch 23/50\n",
      "6154/6154 [==============================] - ETA: 0s - loss: 1.8740 - master_output_loss: 0.2582 - sub_output_loss: 1.6158 - master_output_categorical_accuracy: 0.9015 - sub_output_categorical_accuracy: 0.5576\n",
      "Epoch 23: val_loss did not improve from 1.93596\n",
      "6154/6154 [==============================] - 809s 132ms/step - loss: 1.8740 - master_output_loss: 0.2582 - sub_output_loss: 1.6158 - master_output_categorical_accuracy: 0.9015 - sub_output_categorical_accuracy: 0.5576 - val_loss: 2.0434 - val_master_output_loss: 0.3041 - val_sub_output_loss: 1.7393 - val_master_output_categorical_accuracy: 0.8803 - val_sub_output_categorical_accuracy: 0.5610\n",
      "Epoch 24/50\n",
      "6154/6154 [==============================] - ETA: 0s - loss: 1.8287 - master_output_loss: 0.2501 - sub_output_loss: 1.5786 - master_output_categorical_accuracy: 0.9044 - sub_output_categorical_accuracy: 0.5654\n",
      "Epoch 24: val_loss improved from 1.93596 to 1.75964, saving model to ./weights\\Condition_best_weights_train.h5\n",
      "6154/6154 [==============================] - 809s 132ms/step - loss: 1.8287 - master_output_loss: 0.2501 - sub_output_loss: 1.5786 - master_output_categorical_accuracy: 0.9044 - sub_output_categorical_accuracy: 0.5654 - val_loss: 1.7596 - val_master_output_loss: 0.2441 - val_sub_output_loss: 1.5156 - val_master_output_categorical_accuracy: 0.9075 - val_sub_output_categorical_accuracy: 0.6015\n",
      "Epoch 25/50\n",
      "6154/6154 [==============================] - ETA: 0s - loss: 1.7799 - master_output_loss: 0.2441 - sub_output_loss: 1.5357 - master_output_categorical_accuracy: 0.9091 - sub_output_categorical_accuracy: 0.5781\n",
      "Epoch 25: val_loss improved from 1.75964 to 1.74425, saving model to ./weights\\Condition_best_weights_train.h5\n",
      "6154/6154 [==============================] - 808s 131ms/step - loss: 1.7799 - master_output_loss: 0.2441 - sub_output_loss: 1.5357 - master_output_categorical_accuracy: 0.9091 - sub_output_categorical_accuracy: 0.5781 - val_loss: 1.7442 - val_master_output_loss: 0.2513 - val_sub_output_loss: 1.4930 - val_master_output_categorical_accuracy: 0.9020 - val_sub_output_categorical_accuracy: 0.6056\n",
      "Epoch 26/50\n",
      "6154/6154 [==============================] - ETA: 0s - loss: 1.7350 - master_output_loss: 0.2386 - sub_output_loss: 1.4964 - master_output_categorical_accuracy: 0.9094 - sub_output_categorical_accuracy: 0.5860\n",
      "Epoch 26: val_loss did not improve from 1.74425\n",
      "6154/6154 [==============================] - 809s 131ms/step - loss: 1.7350 - master_output_loss: 0.2386 - sub_output_loss: 1.4964 - master_output_categorical_accuracy: 0.9094 - sub_output_categorical_accuracy: 0.5860 - val_loss: 1.9145 - val_master_output_loss: 0.2941 - val_sub_output_loss: 1.6204 - val_master_output_categorical_accuracy: 0.8772 - val_sub_output_categorical_accuracy: 0.5844\n",
      "Epoch 27/50\n",
      "6154/6154 [==============================] - ETA: 0s - loss: 1.6808 - master_output_loss: 0.2286 - sub_output_loss: 1.4522 - master_output_categorical_accuracy: 0.9140 - sub_output_categorical_accuracy: 0.5987\n",
      "Epoch 27: val_loss improved from 1.74425 to 1.74101, saving model to ./weights\\Condition_best_weights_train.h5\n",
      "6154/6154 [==============================] - 809s 131ms/step - loss: 1.6808 - master_output_loss: 0.2286 - sub_output_loss: 1.4522 - master_output_categorical_accuracy: 0.9140 - sub_output_categorical_accuracy: 0.5987 - val_loss: 1.7410 - val_master_output_loss: 0.2564 - val_sub_output_loss: 1.4846 - val_master_output_categorical_accuracy: 0.8994 - val_sub_output_categorical_accuracy: 0.6037\n",
      "Epoch 28/50\n",
      "6154/6154 [==============================] - ETA: 0s - loss: 1.6309 - master_output_loss: 0.2157 - sub_output_loss: 1.4152 - master_output_categorical_accuracy: 0.9193 - sub_output_categorical_accuracy: 0.6052\n",
      "Epoch 28: val_loss did not improve from 1.74101\n",
      "6154/6154 [==============================] - 809s 131ms/step - loss: 1.6309 - master_output_loss: 0.2157 - sub_output_loss: 1.4152 - master_output_categorical_accuracy: 0.9193 - sub_output_categorical_accuracy: 0.6052 - val_loss: 1.7895 - val_master_output_loss: 0.2758 - val_sub_output_loss: 1.5137 - val_master_output_categorical_accuracy: 0.8918 - val_sub_output_categorical_accuracy: 0.6099\n",
      "Epoch 29/50\n",
      "6154/6154 [==============================] - ETA: 0s - loss: 1.5643 - master_output_loss: 0.2049 - sub_output_loss: 1.3594 - master_output_categorical_accuracy: 0.9243 - sub_output_categorical_accuracy: 0.6228\n",
      "Epoch 29: val_loss did not improve from 1.74101\n",
      "6154/6154 [==============================] - 809s 131ms/step - loss: 1.5643 - master_output_loss: 0.2049 - sub_output_loss: 1.3594 - master_output_categorical_accuracy: 0.9243 - sub_output_categorical_accuracy: 0.6228 - val_loss: 1.7635 - val_master_output_loss: 0.2708 - val_sub_output_loss: 1.4927 - val_master_output_categorical_accuracy: 0.8920 - val_sub_output_categorical_accuracy: 0.6188\n",
      "Epoch 30/50\n",
      "6154/6154 [==============================] - ETA: 0s - loss: 1.5338 - master_output_loss: 0.2034 - sub_output_loss: 1.3304 - master_output_categorical_accuracy: 0.9253 - sub_output_categorical_accuracy: 0.6297\n",
      "Epoch 30: val_loss improved from 1.74101 to 1.68751, saving model to ./weights\\Condition_best_weights_train.h5\n",
      "6154/6154 [==============================] - 809s 131ms/step - loss: 1.5338 - master_output_loss: 0.2034 - sub_output_loss: 1.3304 - master_output_categorical_accuracy: 0.9253 - sub_output_categorical_accuracy: 0.6297 - val_loss: 1.6875 - val_master_output_loss: 0.2689 - val_sub_output_loss: 1.4186 - val_master_output_categorical_accuracy: 0.8883 - val_sub_output_categorical_accuracy: 0.6373\n",
      "Epoch 31/50\n",
      "6154/6154 [==============================] - ETA: 0s - loss: 1.4633 - master_output_loss: 0.1898 - sub_output_loss: 1.2736 - master_output_categorical_accuracy: 0.9310 - sub_output_categorical_accuracy: 0.6432\n",
      "Epoch 31: val_loss did not improve from 1.68751\n",
      "6154/6154 [==============================] - 809s 131ms/step - loss: 1.4633 - master_output_loss: 0.1898 - sub_output_loss: 1.2736 - master_output_categorical_accuracy: 0.9310 - sub_output_categorical_accuracy: 0.6432 - val_loss: 1.7047 - val_master_output_loss: 0.2963 - val_sub_output_loss: 1.4085 - val_master_output_categorical_accuracy: 0.8813 - val_sub_output_categorical_accuracy: 0.6315\n",
      "Epoch 32/50\n",
      "6154/6154 [==============================] - ETA: 0s - loss: 1.4379 - master_output_loss: 0.1858 - sub_output_loss: 1.2521 - master_output_categorical_accuracy: 0.9318 - sub_output_categorical_accuracy: 0.6493\n",
      "Epoch 32: val_loss improved from 1.68751 to 1.68608, saving model to ./weights\\Condition_best_weights_train.h5\n",
      "6154/6154 [==============================] - 809s 131ms/step - loss: 1.4379 - master_output_loss: 0.1858 - sub_output_loss: 1.2521 - master_output_categorical_accuracy: 0.9318 - sub_output_categorical_accuracy: 0.6493 - val_loss: 1.6861 - val_master_output_loss: 0.2405 - val_sub_output_loss: 1.4456 - val_master_output_categorical_accuracy: 0.9105 - val_sub_output_categorical_accuracy: 0.6294\n",
      "Epoch 33/50\n",
      "6154/6154 [==============================] - ETA: 0s - loss: 1.3511 - master_output_loss: 0.1714 - sub_output_loss: 1.1797 - master_output_categorical_accuracy: 0.9369 - sub_output_categorical_accuracy: 0.6671\n",
      "Epoch 33: val_loss improved from 1.68608 to 1.66570, saving model to ./weights\\Condition_best_weights_train.h5\n",
      "6154/6154 [==============================] - 810s 132ms/step - loss: 1.3511 - master_output_loss: 0.1714 - sub_output_loss: 1.1797 - master_output_categorical_accuracy: 0.9369 - sub_output_categorical_accuracy: 0.6671 - val_loss: 1.6657 - val_master_output_loss: 0.2406 - val_sub_output_loss: 1.4251 - val_master_output_categorical_accuracy: 0.9068 - val_sub_output_categorical_accuracy: 0.6422\n",
      "Epoch 34/50\n",
      "6154/6154 [==============================] - ETA: 0s - loss: 1.3396 - master_output_loss: 0.1740 - sub_output_loss: 1.1657 - master_output_categorical_accuracy: 0.9369 - sub_output_categorical_accuracy: 0.6686\n",
      "Epoch 34: val_loss did not improve from 1.66570\n",
      "6154/6154 [==============================] - 806s 131ms/step - loss: 1.3396 - master_output_loss: 0.1740 - sub_output_loss: 1.1657 - master_output_categorical_accuracy: 0.9369 - sub_output_categorical_accuracy: 0.6686 - val_loss: 1.6827 - val_master_output_loss: 0.2473 - val_sub_output_loss: 1.4355 - val_master_output_categorical_accuracy: 0.9057 - val_sub_output_categorical_accuracy: 0.6399\n",
      "Epoch 35/50\n",
      "6154/6154 [==============================] - ETA: 0s - loss: 1.3187 - master_output_loss: 0.1716 - sub_output_loss: 1.1471 - master_output_categorical_accuracy: 0.9374 - sub_output_categorical_accuracy: 0.6756\n",
      "Epoch 35: val_loss did not improve from 1.66570\n",
      "6154/6154 [==============================] - 807s 131ms/step - loss: 1.3187 - master_output_loss: 0.1716 - sub_output_loss: 1.1471 - master_output_categorical_accuracy: 0.9374 - sub_output_categorical_accuracy: 0.6756 - val_loss: 1.7470 - val_master_output_loss: 0.2970 - val_sub_output_loss: 1.4500 - val_master_output_categorical_accuracy: 0.8883 - val_sub_output_categorical_accuracy: 0.6354\n",
      "Epoch 36/50\n",
      "6154/6154 [==============================] - ETA: 0s - loss: 1.2681 - master_output_loss: 0.1658 - sub_output_loss: 1.1023 - master_output_categorical_accuracy: 0.9395 - sub_output_categorical_accuracy: 0.6843\n",
      "Epoch 36: val_loss did not improve from 1.66570\n",
      "6154/6154 [==============================] - 806s 131ms/step - loss: 1.2681 - master_output_loss: 0.1658 - sub_output_loss: 1.1023 - master_output_categorical_accuracy: 0.9395 - sub_output_categorical_accuracy: 0.6843 - val_loss: 1.7103 - val_master_output_loss: 0.2531 - val_sub_output_loss: 1.4572 - val_master_output_categorical_accuracy: 0.9034 - val_sub_output_categorical_accuracy: 0.6423\n",
      "Epoch 37/50\n",
      "6154/6154 [==============================] - ETA: 0s - loss: 1.2169 - master_output_loss: 0.1557 - sub_output_loss: 1.0613 - master_output_categorical_accuracy: 0.9432 - sub_output_categorical_accuracy: 0.6967\n",
      "Epoch 37: val_loss improved from 1.66570 to 1.62162, saving model to ./weights\\Condition_best_weights_train.h5\n",
      "6154/6154 [==============================] - 809s 131ms/step - loss: 1.2169 - master_output_loss: 0.1557 - sub_output_loss: 1.0613 - master_output_categorical_accuracy: 0.9432 - sub_output_categorical_accuracy: 0.6967 - val_loss: 1.6216 - val_master_output_loss: 0.2499 - val_sub_output_loss: 1.3717 - val_master_output_categorical_accuracy: 0.9084 - val_sub_output_categorical_accuracy: 0.6551\n",
      "Epoch 38/50\n",
      "6154/6154 [==============================] - ETA: 0s - loss: 1.2052 - master_output_loss: 0.1630 - sub_output_loss: 1.0422 - master_output_categorical_accuracy: 0.9397 - sub_output_categorical_accuracy: 0.7018\n",
      "Epoch 38: val_loss did not improve from 1.62162\n",
      "6154/6154 [==============================] - 805s 131ms/step - loss: 1.2052 - master_output_loss: 0.1630 - sub_output_loss: 1.0422 - master_output_categorical_accuracy: 0.9397 - sub_output_categorical_accuracy: 0.7018 - val_loss: 1.6774 - val_master_output_loss: 0.2432 - val_sub_output_loss: 1.4342 - val_master_output_categorical_accuracy: 0.9120 - val_sub_output_categorical_accuracy: 0.6428\n",
      "Epoch 39/50\n",
      "6154/6154 [==============================] - ETA: 0s - loss: 1.1448 - master_output_loss: 0.1455 - sub_output_loss: 0.9993 - master_output_categorical_accuracy: 0.9478 - sub_output_categorical_accuracy: 0.7134\n",
      "Epoch 39: val_loss improved from 1.62162 to 1.61752, saving model to ./weights\\Condition_best_weights_train.h5\n",
      "6154/6154 [==============================] - 806s 131ms/step - loss: 1.1448 - master_output_loss: 0.1455 - sub_output_loss: 0.9993 - master_output_categorical_accuracy: 0.9478 - sub_output_categorical_accuracy: 0.7134 - val_loss: 1.6175 - val_master_output_loss: 0.2679 - val_sub_output_loss: 1.3497 - val_master_output_categorical_accuracy: 0.8924 - val_sub_output_categorical_accuracy: 0.6635\n",
      "Epoch 40/50\n",
      "6154/6154 [==============================] - ETA: 0s - loss: 1.1145 - master_output_loss: 0.1376 - sub_output_loss: 0.9769 - master_output_categorical_accuracy: 0.9507 - sub_output_categorical_accuracy: 0.7168\n",
      "Epoch 40: val_loss did not improve from 1.61752\n",
      "6154/6154 [==============================] - 805s 131ms/step - loss: 1.1145 - master_output_loss: 0.1376 - sub_output_loss: 0.9769 - master_output_categorical_accuracy: 0.9507 - sub_output_categorical_accuracy: 0.7168 - val_loss: 1.6688 - val_master_output_loss: 0.2704 - val_sub_output_loss: 1.3984 - val_master_output_categorical_accuracy: 0.9068 - val_sub_output_categorical_accuracy: 0.6604\n",
      "Epoch 41/50\n",
      "6154/6154 [==============================] - ETA: 0s - loss: 1.0673 - master_output_loss: 0.1386 - sub_output_loss: 0.9287 - master_output_categorical_accuracy: 0.9503 - sub_output_categorical_accuracy: 0.7329\n",
      "Epoch 41: val_loss did not improve from 1.61752\n",
      "6154/6154 [==============================] - 806s 131ms/step - loss: 1.0673 - master_output_loss: 0.1386 - sub_output_loss: 0.9287 - master_output_categorical_accuracy: 0.9503 - sub_output_categorical_accuracy: 0.7329 - val_loss: 1.7887 - val_master_output_loss: 0.2790 - val_sub_output_loss: 1.5098 - val_master_output_categorical_accuracy: 0.9045 - val_sub_output_categorical_accuracy: 0.6427\n",
      "Epoch 42/50\n",
      "6154/6154 [==============================] - ETA: 0s - loss: 1.0635 - master_output_loss: 0.1489 - sub_output_loss: 0.9146 - master_output_categorical_accuracy: 0.9469 - sub_output_categorical_accuracy: 0.7346\n",
      "Epoch 42: val_loss did not improve from 1.61752\n",
      "6154/6154 [==============================] - 807s 131ms/step - loss: 1.0635 - master_output_loss: 0.1489 - sub_output_loss: 0.9146 - master_output_categorical_accuracy: 0.9469 - sub_output_categorical_accuracy: 0.7346 - val_loss: 1.6928 - val_master_output_loss: 0.3007 - val_sub_output_loss: 1.3921 - val_master_output_categorical_accuracy: 0.8837 - val_sub_output_categorical_accuracy: 0.6617\n",
      "Epoch 43/50\n",
      "6154/6154 [==============================] - ETA: 0s - loss: 1.0028 - master_output_loss: 0.1353 - sub_output_loss: 0.8676 - master_output_categorical_accuracy: 0.9517 - sub_output_categorical_accuracy: 0.7469\n",
      "Epoch 43: val_loss did not improve from 1.61752\n",
      "6154/6154 [==============================] - 806s 131ms/step - loss: 1.0028 - master_output_loss: 0.1353 - sub_output_loss: 0.8676 - master_output_categorical_accuracy: 0.9517 - sub_output_categorical_accuracy: 0.7469 - val_loss: 1.7926 - val_master_output_loss: 0.3302 - val_sub_output_loss: 1.4625 - val_master_output_categorical_accuracy: 0.8732 - val_sub_output_categorical_accuracy: 0.6518\n",
      "Epoch 44/50\n",
      "6154/6154 [==============================] - ETA: 0s - loss: 0.9899 - master_output_loss: 0.1417 - sub_output_loss: 0.8481 - master_output_categorical_accuracy: 0.9501 - sub_output_categorical_accuracy: 0.7526\n",
      "Epoch 44: val_loss did not improve from 1.61752\n",
      "6154/6154 [==============================] - 807s 131ms/step - loss: 0.9899 - master_output_loss: 0.1417 - sub_output_loss: 0.8481 - master_output_categorical_accuracy: 0.9501 - sub_output_categorical_accuracy: 0.7526 - val_loss: 1.6910 - val_master_output_loss: 0.2578 - val_sub_output_loss: 1.4331 - val_master_output_categorical_accuracy: 0.9008 - val_sub_output_categorical_accuracy: 0.6605\n",
      "Epoch 45/50\n",
      "6154/6154 [==============================] - ETA: 0s - loss: 0.9679 - master_output_loss: 0.1369 - sub_output_loss: 0.8311 - master_output_categorical_accuracy: 0.9525 - sub_output_categorical_accuracy: 0.7581\n",
      "Epoch 45: val_loss did not improve from 1.61752\n",
      "6154/6154 [==============================] - 806s 131ms/step - loss: 0.9679 - master_output_loss: 0.1369 - sub_output_loss: 0.8311 - master_output_categorical_accuracy: 0.9525 - sub_output_categorical_accuracy: 0.7581 - val_loss: 1.8205 - val_master_output_loss: 0.2745 - val_sub_output_loss: 1.5460 - val_master_output_categorical_accuracy: 0.9086 - val_sub_output_categorical_accuracy: 0.6405\n",
      "Epoch 46/50\n",
      "6154/6154 [==============================] - ETA: 0s - loss: 0.9198 - master_output_loss: 0.1225 - sub_output_loss: 0.7973 - master_output_categorical_accuracy: 0.9571 - sub_output_categorical_accuracy: 0.7668\n",
      "Epoch 46: val_loss did not improve from 1.61752\n",
      "6154/6154 [==============================] - 808s 131ms/step - loss: 0.9198 - master_output_loss: 0.1225 - sub_output_loss: 0.7973 - master_output_categorical_accuracy: 0.9571 - sub_output_categorical_accuracy: 0.7668 - val_loss: 1.7147 - val_master_output_loss: 0.2749 - val_sub_output_loss: 1.4398 - val_master_output_categorical_accuracy: 0.8930 - val_sub_output_categorical_accuracy: 0.6624\n",
      "Epoch 47/50\n",
      "6154/6154 [==============================] - ETA: 0s - loss: 0.9197 - master_output_loss: 0.1383 - sub_output_loss: 0.7814 - master_output_categorical_accuracy: 0.9520 - sub_output_categorical_accuracy: 0.7693\n",
      "Epoch 47: val_loss did not improve from 1.61752\n",
      "6154/6154 [==============================] - 806s 131ms/step - loss: 0.9197 - master_output_loss: 0.1383 - sub_output_loss: 0.7814 - master_output_categorical_accuracy: 0.9520 - sub_output_categorical_accuracy: 0.7693 - val_loss: 1.6854 - val_master_output_loss: 0.2585 - val_sub_output_loss: 1.4269 - val_master_output_categorical_accuracy: 0.9062 - val_sub_output_categorical_accuracy: 0.6685\n",
      "Epoch 48/50\n",
      "6154/6154 [==============================] - ETA: 0s - loss: 0.9016 - master_output_loss: 0.1391 - sub_output_loss: 0.7626 - master_output_categorical_accuracy: 0.9500 - sub_output_categorical_accuracy: 0.7764\n",
      "Epoch 48: val_loss did not improve from 1.61752\n",
      "6154/6154 [==============================] - 807s 131ms/step - loss: 0.9016 - master_output_loss: 0.1391 - sub_output_loss: 0.7626 - master_output_categorical_accuracy: 0.9500 - sub_output_categorical_accuracy: 0.7764 - val_loss: 1.8145 - val_master_output_loss: 0.3513 - val_sub_output_loss: 1.4632 - val_master_output_categorical_accuracy: 0.8700 - val_sub_output_categorical_accuracy: 0.6583\n",
      "Epoch 49/50\n",
      "6154/6154 [==============================] - ETA: 0s - loss: 0.8758 - master_output_loss: 0.1290 - sub_output_loss: 0.7467 - master_output_categorical_accuracy: 0.9541 - sub_output_categorical_accuracy: 0.7795\n",
      "Epoch 49: val_loss did not improve from 1.61752\n",
      "6154/6154 [==============================] - 806s 131ms/step - loss: 0.8758 - master_output_loss: 0.1290 - sub_output_loss: 0.7467 - master_output_categorical_accuracy: 0.9541 - sub_output_categorical_accuracy: 0.7795 - val_loss: 1.7018 - val_master_output_loss: 0.2636 - val_sub_output_loss: 1.4382 - val_master_output_categorical_accuracy: 0.9005 - val_sub_output_categorical_accuracy: 0.6650\n",
      "Epoch 50/50\n",
      "6154/6154 [==============================] - ETA: 0s - loss: 0.8398 - master_output_loss: 0.1265 - sub_output_loss: 0.7133 - master_output_categorical_accuracy: 0.9555 - sub_output_categorical_accuracy: 0.7882\n",
      "Epoch 50: val_loss did not improve from 1.61752\n",
      "6154/6154 [==============================] - 806s 131ms/step - loss: 0.8398 - master_output_loss: 0.1265 - sub_output_loss: 0.7133 - master_output_categorical_accuracy: 0.9555 - sub_output_categorical_accuracy: 0.7882 - val_loss: 1.7018 - val_master_output_loss: 0.2629 - val_sub_output_loss: 1.4389 - val_master_output_categorical_accuracy: 0.9078 - val_sub_output_categorical_accuracy: 0.6720\n",
      "Finished training\n"
     ]
    },
    {
     "data": {
      "image/png": "[encoded data removed]",
      "text/plain": [
       "<Figure size 640x480 with 1 Axes>"
      ]
     },
     "metadata": {},
     "output_type": "display_data"
    },
    {
     "data": {
      "text/plain": [
       "<Figure size 640x480 with 0 Axes>"
      ]
     },
     "metadata": {},
     "output_type": "display_data"
    }
   ],
   "source": [
    "condition = ConditionTrain(model_type)\n",
    "model = condition.model\n",
    "cbks = condition.cbks\n",
    "train(model_type,model,cbks)"
   ]
  },
  {
   "cell_type": "markdown",
   "metadata": {},
   "source": [
    "## Test"
   ]
  },
  {
   "cell_type": "code",
   "execution_count": 12,
   "metadata": {},
   "outputs": [],
   "source": [
    "weights_path_best = \"./weights/Condition_best_weights_train.h5\"\n",
    "weights_path_50_epochs = \"./weights/Condition_50_epochs_2023-10-30.h5\""
   ]
  },
  {
   "cell_type": "code",
   "execution_count": 14,
   "metadata": {},
   "outputs": [],
   "source": [
    "def test_multi(label, model, weights_path):\n",
    "    model.load_weights(weights_path, by_name=True)\n",
    "\n",
    "    test_generator = test_datagen.flow_from_dataframe(\n",
    "        dataframe=test_df,\n",
    "        directory=direc,\n",
    "        x_col=\"path\",\n",
    "        y_col=['food_categoryOneHot','dishOneHot'],\n",
    "        target_size=target_size,\n",
    "        batch_size=batch,\n",
    "        shuffle=False,\n",
    "        class_mode='multi_output')\n",
    "\n",
    "    STEP_SIZE_TEST=test_generator.n//test_generator.batch_size\n",
    "    # x can be a generator returning returning (inputs, targets)\n",
    "    # if x is a generator y should not be specified\n",
    "    score = model.evaluate(x=test_generator,\n",
    "        steps=STEP_SIZE_TEST)\n",
    "\n",
    "    print(f\"score is {score}\")\n",
    "    return score"
   ]
  },
  {
   "cell_type": "markdown",
   "metadata": {},
   "source": [
    "### Con mejores pesos de entrenamiento"
   ]
  },
  {
   "cell_type": "code",
   "execution_count": 16,
   "metadata": {},
   "outputs": [
    {
     "name": "stdout",
     "output_type": "stream",
     "text": [
      "Trainable paramaters: 148541461\n",
      "Found 18938 validated image filenames.\n",
      "2367/2367 [==============================] - 146s 62ms/step - loss: 9422.4014 - master_output_loss: 3564.0127 - sub_output_loss: 5858.3804 - master_output_categorical_accuracy: 0.7426 - sub_output_categorical_accuracy: 0.0167\n",
      "score is [9422.4013671875, 3564.0126953125, 5858.38037109375, 0.7426066994667053, 0.016740599647164345]\n"
     ]
    }
   ],
   "source": [
    "model = ConditionTest(model_type).model\n",
    "score = test_multi(model_type, model, weights_path_best)\n",
    "params= np.sum([K.count_params(w) for w in model.trainable_weights])\n",
    "masterCategory_accuracy = score[3]\n",
    "subCategory_accuracy = score[4]"
   ]
  },
  {
   "cell_type": "code",
   "execution_count": 18,
   "metadata": {},
   "outputs": [],
   "source": [
    "exists = path.exists(\"./testing/test_results.csv\")\n",
    "if(not exists):\n",
    "    df_results = pd.DataFrame(columns=['Model','Weights Path', 'masterCategory Accuracy %','subCategory Accuracy %','Trainable params','Timestamp'])\n",
    "    data = np.empty(0)\n",
    "    data = np.append(data, [model_type,weights_path_best,masterCategory_accuracy,subCategory_accuracy,params,TODAY])\n",
    "else:\n",
    "    df_results = pd.read_csv(\"./testing/test_results.csv\", parse_dates=['Timestamp'])\n",
    "    \n",
    "df_results.loc[df.index.max()+1] = [model_type, weights_path_best, masterCategory_accuracy, subCategory_accuracy, params,np.datetime64('now')]\n",
    "df_results.to_csv(\"./testing/test_results.csv\", index=False)"
   ]
  },
  {
   "cell_type": "code",
   "execution_count": 20,
   "metadata": {},
   "outputs": [
    {
     "name": "stdout",
     "output_type": "stream",
     "text": [
      "Found 18938 validated image filenames.\n",
      "2368/2368 [==============================] - 63s 26ms/step\n"
     ]
    }
   ],
   "source": [
    "test_generator = test_datagen.flow_from_dataframe(\n",
    "        dataframe=test_df,\n",
    "        directory=direc,\n",
    "        x_col=\"path\",\n",
    "        y_col=['food_categoryOneHot','dishOneHot'],\n",
    "        target_size=target_size,\n",
    "        batch_size=batch,\n",
    "        shuffle=False,\n",
    "        class_mode='multi_output')\n",
    "\n",
    "results = model.predict(test_generator)"
   ]
  },
  {
   "cell_type": "code",
   "execution_count": 22,
   "metadata": {},
   "outputs": [
    {
     "name": "stdout",
     "output_type": "stream",
     "text": [
      "0.0008738974985029954\n"
     ]
    }
   ],
   "source": [
    "eval_df = pd.DataFrame(results[0].argmax(axis=1), columns=['food_category'])\n",
    "eval_df['dish'] = results[1].argmax(axis=1)\n",
    "eval_df['classes'] = eval_df['food_category'].astype(str) + \" \" + eval_df['dish'].astype(str)\n",
    "# F1-Score for classes\n",
    "print(f1_score(test_df['classes'], eval_df['classes'], average='macro'))"
   ]
  },
  {
   "cell_type": "markdown",
   "metadata": {},
   "source": [
    "#### Evaluación para submission"
   ]
  },
  {
   "cell_type": "code",
   "execution_count": null,
   "metadata": {},
   "outputs": [],
   "source": [
    "kaggle_df = pd.read_csv('test.csv')\n",
    "eval_df = kaggle_df.copy()\n",
    "kaggle_df[\"food_categoryOneHot\"] = [np.zeros(3) for _ in range(len(kaggle_df))]\n",
    "kaggle_df[\"dishOneHot\"] = [np.zeros(101) for _ in range(len(kaggle_df))]"
   ]
  },
  {
   "cell_type": "code",
   "execution_count": null,
   "metadata": {},
   "outputs": [],
   "source": [
    "images = test_datagen.flow_from_dataframe(\n",
    "        dataframe=kaggle_df,\n",
    "        directory=direc,\n",
    "        x_col=\"path\",\n",
    "        y_col=['food_categoryOneHot','dishOneHot'],\n",
    "        target_size=target_size,\n",
    "        batch_size=batch,\n",
    "        shuffle=False,\n",
    "        class_mode='multi_output')\n",
    "results = model.predict(images)"
   ]
  },
  {
   "cell_type": "code",
   "execution_count": null,
   "metadata": {},
   "outputs": [],
   "source": [
    "eval_df = pd.DataFrame(results[0].argmax(axis=1), columns=['food_category'])\n",
    "eval_df['dish'] = results[1].argmax(axis=1)\n",
    "eval_df['classes'] = eval_df['food_category'].astype(str) + \" \" + eval_df['dish'].astype(str)\n",
    "eval_df.to_csv('submissions/submission_condition_best_weights.csv', index=False)"
   ]
  },
  {
   "cell_type": "markdown",
   "metadata": {},
   "source": [
    "### Con pesos establecidos luego de 50 epochs"
   ]
  },
  {
   "cell_type": "code",
   "execution_count": 15,
   "metadata": {},
   "outputs": [
    {
     "name": "stdout",
     "output_type": "stream",
     "text": [
      "Trainable paramaters: 148541461\n",
      "Found 18938 validated image filenames.\n",
      "2367/2367 [==============================] - 492s 199ms/step - loss: 16792.1250 - master_output_loss: 9878.5020 - sub_output_loss: 6913.6343 - master_output_categorical_accuracy: 0.7426 - sub_output_categorical_accuracy: 0.0111\n",
      "score is [16792.125, 9878.501953125, 6913.63427734375, 0.7426066994667053, 0.011089987121522427]\n"
     ]
    }
   ],
   "source": [
    "model = ConditionTest(model_type).model\n",
    "score = test_multi(model_type, model, weights_path_50_epochs)\n",
    "params= np.sum([K.count_params(w) for w in model.trainable_weights])\n",
    "masterCategory_accuracy = score[3]\n",
    "subCategory_accuracy = score[4]"
   ]
  },
  {
   "cell_type": "code",
   "execution_count": 14,
   "metadata": {},
   "outputs": [],
   "source": [
    "exists = path.exists(\"./testing/test_results.csv\")\n",
    "if(not exists):\n",
    "    df_results = pd.DataFrame(columns=['Model','Weights Path', 'masterCategory Accuracy %','subCategory Accuracy %','Trainable params','Timestamp'])\n",
    "    data = np.empty(0)\n",
    "    data = np.append(data, [model_type,weights_path_50_epochs,masterCategory_accuracy,subCategory_accuracy,params,TODAY])\n",
    "else:\n",
    "    df_results = pd.read_csv(\"./testing/test_results.csv\", parse_dates=['Timestamp'])\n",
    "    \n",
    "df_results.loc[df.index.max()+1] = [model_type, weights_path_50_epochs, masterCategory_accuracy, subCategory_accuracy, params,np.datetime64('now')]\n",
    "df_results.to_csv(\"./testing/test_results.csv\", index=False)"
   ]
  },
  {
   "cell_type": "code",
   "execution_count": 15,
   "metadata": {},
   "outputs": [
    {
     "name": "stdout",
     "output_type": "stream",
     "text": [
      "Found 18938 validated image filenames.\n",
      "2368/2368 [==============================] - 76s 32ms/step\n"
     ]
    }
   ],
   "source": [
    "test_generator = test_datagen.flow_from_dataframe(\n",
    "        dataframe=test_df,\n",
    "        directory=direc,\n",
    "        x_col=\"path\",\n",
    "        y_col=['food_categoryOneHot','dishOneHot'],\n",
    "        target_size=target_size,\n",
    "        batch_size=batch,\n",
    "        shuffle=False,\n",
    "        class_mode='multi_output')\n",
    "\n",
    "results = model.predict(test_generator)"
   ]
  },
  {
   "cell_type": "code",
   "execution_count": 16,
   "metadata": {},
   "outputs": [
    {
     "name": "stdout",
     "output_type": "stream",
     "text": [
      "0.24372990911011164\n"
     ]
    }
   ],
   "source": [
    "eval_df = pd.DataFrame(results[0].argmax(axis=1), columns=['food_category'])\n",
    "eval_df['dish'] = results[1].argmax(axis=1)\n",
    "eval_df['classes'] = eval_df['food_category'].astype(str) + \" \" + eval_df['dish'].astype(str)\n",
    "# F1-Score for classes\n",
    "print(f1_score(test_df['classes'], eval_df['classes'], average='macro'))"
   ]
  },
  {
   "cell_type": "markdown",
   "metadata": {},
   "source": [
    "#### Evaluación para submission"
   ]
  },
  {
   "cell_type": "code",
   "execution_count": 35,
   "metadata": {},
   "outputs": [],
   "source": [
    "kaggle_df = pd.read_csv('test.csv')\n",
    "eval_df = kaggle_df.copy()\n",
    "kaggle_df[\"food_categoryOneHot\"] = [np.zeros(3) for _ in range(len(kaggle_df))]\n",
    "kaggle_df[\"dishOneHot\"] = [np.zeros(101) for _ in range(len(kaggle_df))]"
   ]
  },
  {
   "cell_type": "code",
   "execution_count": 36,
   "metadata": {},
   "outputs": [
    {
     "name": "stdout",
     "output_type": "stream",
     "text": [
      "Found 25250 validated image filenames.\n",
      "3157/3157 [==============================] - 101s 32ms/step\n"
     ]
    }
   ],
   "source": [
    "images = test_datagen.flow_from_dataframe(\n",
    "        dataframe=kaggle_df,\n",
    "        directory=direc,\n",
    "        x_col=\"path\",\n",
    "        y_col=['food_categoryOneHot','dishOneHot'],\n",
    "        target_size=target_size,\n",
    "        batch_size=batch,\n",
    "        shuffle=False,\n",
    "        class_mode='multi_output')\n",
    "results = model.predict(images)"
   ]
  },
  {
   "cell_type": "code",
   "execution_count": 37,
   "metadata": {},
   "outputs": [],
   "source": [
    "eval_df['food_category'] = results[0].argmax(axis=1)\n",
    "eval_df['dish'] = results[1].argmax(axis=1)\n",
    "eval_df['classes'] = eval_df['food_category'].astype(str) + \" \" + eval_df['dish'].astype(str)\n",
    "eval_df = eval_df.drop(['food_category', 'dish'], axis=1)\n",
    "eval_df.to_csv('submissions/submission_condition_50_epochs.csv', index=False)"
   ]
  }
 ],
 "metadata": {
  "kernelspec": {
   "display_name": "Python 3 (ipykernel)",
   "language": "python",
   "name": "python3"
  },
  "language_info": {
   "codemirror_mode": {
    "name": "ipython",
    "version": 3
   },
   "file_extension": ".py",
   "mimetype": "text/x-python",
   "name": "python",
   "nbconvert_exporter": "python",
   "pygments_lexer": "ipython3",
   "version": "3.9.18"
  }
 },
 "nbformat": 4,
 "nbformat_minor": 2
}
